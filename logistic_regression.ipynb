{
 "cells": [
  {
   "cell_type": "markdown",
   "id": "dde45afa",
   "metadata": {},
   "source": [
    "# Titanic Data"
   ]
  },
  {
   "cell_type": "markdown",
   "id": "16326aba",
   "metadata": {},
   "source": [
    "1. Create a model that includes only age, fare, and pclass. Does this model perform better than your baseline?\n",
    "\n",
    "2. Include sex in your model as well. Note that you'll need to encode or create a dummy variable of this feature before including it in a model.\n",
    "\n",
    "3. Try out other combinations of features and models.\n",
    "\n",
    "4. Use you best 3 models to predict and evaluate on your validate sample.\n",
    "\n",
    "5. Choose you best model from the validation performation, and evaluate it on the test dataset. How do the performance metrics compare to validate? to train?"
   ]
  },
  {
   "cell_type": "markdown",
   "id": "a7ae4852",
   "metadata": {},
   "source": [
    "### Bonus questions:\n",
    "- Bonus1 How do different strategies for handling the missing values in the age column affect model performance?\n",
    "\n",
    "- Bonus2: How do different strategies for encoding sex affect model performance?\n",
    "\n",
    "- Bonus3: scikit-learn's LogisticRegression classifier is actually applying a regularization penalty to the coefficients by default. This penalty causes the magnitude of the coefficients in the resulting model to be smaller than they otherwise would be. This value can be modified with the C hyper parameter. Small values of C correspond to a larger penalty, and large values of C correspond to a smaller penalty. Try out the following values for C and note how the coefficients and the model's performance on both the dataset it was trained on and on the validate split are affected.\n",
    "   C =.01,.1,1,10,100,1000\n",
    "- Bonus Bonus: how does scaling the data interact with your choice of C?"
   ]
  },
  {
   "cell_type": "code",
   "execution_count": 2,
   "id": "de1c0ecf",
   "metadata": {},
   "outputs": [],
   "source": [
    "import numpy as np\n",
    "import pandas as pd\n",
    "import math\n",
    "import matplotlib.pyplot as plt \n",
    "import acquire as acq\n",
    "import prepare as prep\n",
    "\n",
    "from sklearn.metrics import classification_report, confusion_matrix, plot_confusion_matrix\n",
    "from sklearn.linear_model import LogisticRegression"
   ]
  },
  {
   "cell_type": "code",
   "execution_count": 2,
   "id": "aa0eac78",
   "metadata": {},
   "outputs": [
    {
     "data": {
      "text/html": [
       "<div>\n",
       "<style scoped>\n",
       "    .dataframe tbody tr th:only-of-type {\n",
       "        vertical-align: middle;\n",
       "    }\n",
       "\n",
       "    .dataframe tbody tr th {\n",
       "        vertical-align: top;\n",
       "    }\n",
       "\n",
       "    .dataframe thead th {\n",
       "        text-align: right;\n",
       "    }\n",
       "</style>\n",
       "<table border=\"1\" class=\"dataframe\">\n",
       "  <thead>\n",
       "    <tr style=\"text-align: right;\">\n",
       "      <th></th>\n",
       "      <th>passenger_id</th>\n",
       "      <th>survived</th>\n",
       "      <th>pclass</th>\n",
       "      <th>sex</th>\n",
       "      <th>age</th>\n",
       "      <th>sibsp</th>\n",
       "      <th>parch</th>\n",
       "      <th>fare</th>\n",
       "      <th>embark_town</th>\n",
       "      <th>sex_male</th>\n",
       "      <th>embark_town_Queenstown</th>\n",
       "      <th>embark_town_Southampton</th>\n",
       "    </tr>\n",
       "  </thead>\n",
       "  <tbody>\n",
       "    <tr>\n",
       "      <th>0</th>\n",
       "      <td>0</td>\n",
       "      <td>0</td>\n",
       "      <td>3</td>\n",
       "      <td>male</td>\n",
       "      <td>22.0</td>\n",
       "      <td>1</td>\n",
       "      <td>0</td>\n",
       "      <td>7.2500</td>\n",
       "      <td>Southampton</td>\n",
       "      <td>1</td>\n",
       "      <td>0</td>\n",
       "      <td>1</td>\n",
       "    </tr>\n",
       "    <tr>\n",
       "      <th>1</th>\n",
       "      <td>1</td>\n",
       "      <td>1</td>\n",
       "      <td>1</td>\n",
       "      <td>female</td>\n",
       "      <td>38.0</td>\n",
       "      <td>1</td>\n",
       "      <td>0</td>\n",
       "      <td>71.2833</td>\n",
       "      <td>Cherbourg</td>\n",
       "      <td>0</td>\n",
       "      <td>0</td>\n",
       "      <td>0</td>\n",
       "    </tr>\n",
       "    <tr>\n",
       "      <th>2</th>\n",
       "      <td>2</td>\n",
       "      <td>1</td>\n",
       "      <td>3</td>\n",
       "      <td>female</td>\n",
       "      <td>26.0</td>\n",
       "      <td>0</td>\n",
       "      <td>0</td>\n",
       "      <td>7.9250</td>\n",
       "      <td>Southampton</td>\n",
       "      <td>0</td>\n",
       "      <td>0</td>\n",
       "      <td>1</td>\n",
       "    </tr>\n",
       "    <tr>\n",
       "      <th>3</th>\n",
       "      <td>3</td>\n",
       "      <td>1</td>\n",
       "      <td>1</td>\n",
       "      <td>female</td>\n",
       "      <td>35.0</td>\n",
       "      <td>1</td>\n",
       "      <td>0</td>\n",
       "      <td>53.1000</td>\n",
       "      <td>Southampton</td>\n",
       "      <td>0</td>\n",
       "      <td>0</td>\n",
       "      <td>1</td>\n",
       "    </tr>\n",
       "    <tr>\n",
       "      <th>4</th>\n",
       "      <td>4</td>\n",
       "      <td>0</td>\n",
       "      <td>3</td>\n",
       "      <td>male</td>\n",
       "      <td>35.0</td>\n",
       "      <td>0</td>\n",
       "      <td>0</td>\n",
       "      <td>8.0500</td>\n",
       "      <td>Southampton</td>\n",
       "      <td>1</td>\n",
       "      <td>0</td>\n",
       "      <td>1</td>\n",
       "    </tr>\n",
       "  </tbody>\n",
       "</table>\n",
       "</div>"
      ],
      "text/plain": [
       "   passenger_id  survived  pclass     sex   age  sibsp  parch     fare  \\\n",
       "0             0         0       3    male  22.0      1      0   7.2500   \n",
       "1             1         1       1  female  38.0      1      0  71.2833   \n",
       "2             2         1       3  female  26.0      0      0   7.9250   \n",
       "3             3         1       1  female  35.0      1      0  53.1000   \n",
       "4             4         0       3    male  35.0      0      0   8.0500   \n",
       "\n",
       "   embark_town  sex_male  embark_town_Queenstown  embark_town_Southampton  \n",
       "0  Southampton         1                       0                        1  \n",
       "1    Cherbourg         0                       0                        0  \n",
       "2  Southampton         0                       0                        1  \n",
       "3  Southampton         0                       0                        1  \n",
       "4  Southampton         1                       0                        1  "
      ]
     },
     "execution_count": 2,
     "metadata": {},
     "output_type": "execute_result"
    }
   ],
   "source": [
    "titanic=acq.titanic_data()\n",
    "titanic=prep.prep_titanic(titanic)\n",
    "titanic.head()\n"
   ]
  },
  {
   "cell_type": "markdown",
   "id": "102e6df3",
   "metadata": {},
   "source": [
    "1. Create a model that includes only age, fare, and pclass. Does this model perform better than your baseline?\n",
    "\n",
    "baseline is %61.61 and model1 is 68.35. Model1 does perform better than the baseline\n",
    "\n",
    "2. Include sex in your model as well. Note that you'll need to encode or create a dummy variable of this feature before including it in a model."
   ]
  },
  {
   "cell_type": "code",
   "execution_count": 3,
   "id": "bc3f30a9",
   "metadata": {},
   "outputs": [
    {
     "data": {
      "text/plain": [
       "61.61048689138576"
      ]
     },
     "execution_count": 3,
     "metadata": {},
     "output_type": "execute_result"
    }
   ],
   "source": [
    "baseline_accuracy=329/(329+205)\n",
    "baseline_accuracy*100"
   ]
  },
  {
   "cell_type": "code",
   "execution_count": 4,
   "id": "88e6621a",
   "metadata": {},
   "outputs": [],
   "source": [
    "df1=titanic[['age','fare','pclass','survived']]\n",
    "df1=df1.fillna(0)"
   ]
  },
  {
   "cell_type": "code",
   "execution_count": 5,
   "id": "8844b09d",
   "metadata": {},
   "outputs": [],
   "source": [
    "titanic.sex=(titanic.sex==\"male\")*1"
   ]
  },
  {
   "cell_type": "code",
   "execution_count": 6,
   "id": "92456164",
   "metadata": {},
   "outputs": [
    {
     "name": "stdout",
     "output_type": "stream",
     "text": [
      "<class 'pandas.core.frame.DataFrame'>\n",
      "RangeIndex: 891 entries, 0 to 890\n",
      "Data columns (total 4 columns):\n",
      " #   Column    Non-Null Count  Dtype  \n",
      "---  ------    --------------  -----  \n",
      " 0   age       891 non-null    float64\n",
      " 1   fare      891 non-null    float64\n",
      " 2   pclass    891 non-null    int64  \n",
      " 3   survived  891 non-null    int64  \n",
      "dtypes: float64(2), int64(2)\n",
      "memory usage: 28.0 KB\n"
     ]
    }
   ],
   "source": [
    "df1.info()"
   ]
  },
  {
   "cell_type": "code",
   "execution_count": 7,
   "id": "88c3cf53",
   "metadata": {},
   "outputs": [],
   "source": [
    "train,validate,test=prep.split_data(df1,'survived')"
   ]
  },
  {
   "cell_type": "code",
   "execution_count": 8,
   "id": "54b820a7",
   "metadata": {},
   "outputs": [],
   "source": [
    "x_train=train.drop(columns=['survived'])\n",
    "y_train=train.survived\n",
    "x_validate=validate.drop(columns=['survived'])\n",
    "y_validate=validate.survived\n",
    "x_test=test.drop(columns=['survived'])\n",
    "y_test=test.survived"
   ]
  },
  {
   "cell_type": "code",
   "execution_count": 9,
   "id": "46ab9357",
   "metadata": {},
   "outputs": [
    {
     "data": {
      "text/plain": [
       "68.35205992509363"
      ]
     },
     "execution_count": 9,
     "metadata": {},
     "output_type": "execute_result"
    }
   ],
   "source": [
    "logit=LogisticRegression()\n",
    "logit.fit(x_train,y_train)\n",
    "logit.score(x_train,y_train)*100"
   ]
  },
  {
   "cell_type": "code",
   "execution_count": null,
   "id": "86a87017",
   "metadata": {},
   "outputs": [],
   "source": []
  },
  {
   "cell_type": "code",
   "execution_count": null,
   "id": "23387ef1",
   "metadata": {},
   "outputs": [],
   "source": []
  },
  {
   "cell_type": "code",
   "execution_count": 10,
   "id": "0e39b929",
   "metadata": {},
   "outputs": [],
   "source": [
    "df2=titanic[['age','fare','pclass','sex','survived']]\n",
    "df2=df2.fillna(0)"
   ]
  },
  {
   "cell_type": "code",
   "execution_count": 11,
   "id": "af86b9a3",
   "metadata": {},
   "outputs": [],
   "source": [
    "train2,validate2,test2=prep.split_data(df2,'survived')"
   ]
  },
  {
   "cell_type": "code",
   "execution_count": 12,
   "id": "2296805b",
   "metadata": {},
   "outputs": [],
   "source": [
    "x_train2=train2.drop(columns=['survived'])\n",
    "y_train2=train2.survived\n",
    "x_validate2=validate2.drop(columns=['survived'])\n",
    "y_validate2=validate2.survived\n",
    "x_test2=test2.drop(columns=['survived'])\n",
    "y_test2=test2.survived"
   ]
  },
  {
   "cell_type": "code",
   "execution_count": 13,
   "id": "1967055a",
   "metadata": {},
   "outputs": [
    {
     "data": {
      "text/plain": [
       "77.90262172284645"
      ]
     },
     "execution_count": 13,
     "metadata": {},
     "output_type": "execute_result"
    }
   ],
   "source": [
    "logit2=LogisticRegression()\n",
    "logit2.fit(x_train2,y_train2)\n",
    "logit2.score(x_train2,y_train2)*100"
   ]
  },
  {
   "cell_type": "markdown",
   "id": "a460e8b3",
   "metadata": {},
   "source": [
    "3. Try out other combinations of features and models."
   ]
  },
  {
   "cell_type": "markdown",
   "id": "e0918a0f",
   "metadata": {},
   "source": [
    "## Model #3 "
   ]
  },
  {
   "cell_type": "code",
   "execution_count": 14,
   "id": "67d98567",
   "metadata": {},
   "outputs": [],
   "source": [
    "df3=titanic[['pclass','sibsp','survived']]\n",
    "df3=df3.fillna(0)"
   ]
  },
  {
   "cell_type": "code",
   "execution_count": 15,
   "id": "7abdba60",
   "metadata": {},
   "outputs": [],
   "source": [
    "train3,validate3,test3=prep.split_data(df3,'survived')"
   ]
  },
  {
   "cell_type": "code",
   "execution_count": 16,
   "id": "8c483d66",
   "metadata": {},
   "outputs": [],
   "source": [
    "x_train3=train3.drop(columns=['survived'])\n",
    "y_train3=train3.survived\n",
    "x_validate3=validate3.drop(columns=['survived'])\n",
    "y_validate3=validate3.survived\n",
    "x_test3=test3.drop(columns=['survived'])\n",
    "y_test3=test3.survived"
   ]
  },
  {
   "cell_type": "code",
   "execution_count": 17,
   "id": "7d72db06",
   "metadata": {},
   "outputs": [
    {
     "data": {
      "text/plain": [
       "67.22846441947566"
      ]
     },
     "execution_count": 17,
     "metadata": {},
     "output_type": "execute_result"
    }
   ],
   "source": [
    "logit3=LogisticRegression()\n",
    "logit3.fit(x_train3,y_train3)\n",
    "logit3.score(x_train3,y_train3)*100"
   ]
  },
  {
   "cell_type": "markdown",
   "id": "8605d247",
   "metadata": {},
   "source": [
    "## Model #4"
   ]
  },
  {
   "cell_type": "code",
   "execution_count": 18,
   "id": "0690d44a",
   "metadata": {},
   "outputs": [],
   "source": [
    "df4=titanic[['sex_male','parch','survived']]\n",
    "df4=df4.fillna(0)"
   ]
  },
  {
   "cell_type": "code",
   "execution_count": 19,
   "id": "76630e4a",
   "metadata": {},
   "outputs": [],
   "source": [
    "train4,validate4,test4=prep.split_data(df4,'survived')"
   ]
  },
  {
   "cell_type": "code",
   "execution_count": 20,
   "id": "bb133815",
   "metadata": {},
   "outputs": [],
   "source": [
    "x_train4=train4.drop(columns=['survived'])\n",
    "y_train4=train4.survived\n",
    "x_validate4=validate4.drop(columns=['survived'])\n",
    "y_validate4=validate4.survived\n",
    "x_test4=test4.drop(columns=['survived'])\n",
    "y_test4=test4.survived"
   ]
  },
  {
   "cell_type": "code",
   "execution_count": 21,
   "id": "8275fc17",
   "metadata": {},
   "outputs": [
    {
     "data": {
      "text/plain": [
       "79.21348314606742"
      ]
     },
     "execution_count": 21,
     "metadata": {},
     "output_type": "execute_result"
    }
   ],
   "source": [
    "logit4=LogisticRegression()\n",
    "logit4.fit(x_train4,y_train4)\n",
    "logit4.score(x_train4,y_train4)*100"
   ]
  },
  {
   "cell_type": "markdown",
   "id": "27fcc74e",
   "metadata": {},
   "source": [
    "## Model #5"
   ]
  },
  {
   "cell_type": "code",
   "execution_count": 22,
   "id": "4c20966b",
   "metadata": {},
   "outputs": [],
   "source": [
    "df5=titanic[['fare','embark_town_Southampton','survived']]\n",
    "df5=df5.fillna(0)"
   ]
  },
  {
   "cell_type": "code",
   "execution_count": 23,
   "id": "9b21d998",
   "metadata": {},
   "outputs": [],
   "source": [
    "train5,validate5,test5=prep.split_data(df5,'survived')"
   ]
  },
  {
   "cell_type": "code",
   "execution_count": 24,
   "id": "26ba3522",
   "metadata": {},
   "outputs": [],
   "source": [
    "x_train5=train5.drop(columns=['survived'])\n",
    "y_train5=train5.survived\n",
    "x_validate5=validate5.drop(columns=['survived'])\n",
    "y_validate5=validate5.survived\n",
    "x_test5=test5.drop(columns=['survived'])\n",
    "y_test5=test5.survived"
   ]
  },
  {
   "cell_type": "code",
   "execution_count": 25,
   "id": "0ac8d44e",
   "metadata": {},
   "outputs": [
    {
     "data": {
      "text/plain": [
       "66.10486891385767"
      ]
     },
     "execution_count": 25,
     "metadata": {},
     "output_type": "execute_result"
    }
   ],
   "source": [
    "logit5=LogisticRegression()\n",
    "logit5.fit(x_train5,y_train5)\n",
    "logit5.score(x_train5,y_train5)*100"
   ]
  },
  {
   "cell_type": "markdown",
   "id": "1668d534",
   "metadata": {},
   "source": [
    "## Model #6"
   ]
  },
  {
   "cell_type": "code",
   "execution_count": 26,
   "id": "469ddc8c",
   "metadata": {},
   "outputs": [],
   "source": [
    "df6=titanic[['age','pclass','embark_town_Southampton','survived']]\n",
    "df6=df6.fillna(0)"
   ]
  },
  {
   "cell_type": "code",
   "execution_count": 27,
   "id": "d27c2f4e",
   "metadata": {},
   "outputs": [],
   "source": [
    "train6,validate6,test6=prep.split_data(df6,'survived')"
   ]
  },
  {
   "cell_type": "code",
   "execution_count": 28,
   "id": "193c6a2e",
   "metadata": {},
   "outputs": [],
   "source": [
    "x_train6=train6.drop(columns=['survived'])\n",
    "y_train6=train6.survived\n",
    "x_validate6=validate6.drop(columns=['survived'])\n",
    "y_validate6=validate6.survived\n",
    "x_test6=test6.drop(columns=['survived'])\n",
    "y_test6=test6.survived"
   ]
  },
  {
   "cell_type": "code",
   "execution_count": 29,
   "id": "9ffe0104",
   "metadata": {},
   "outputs": [
    {
     "data": {
      "text/plain": [
       "67.22846441947566"
      ]
     },
     "execution_count": 29,
     "metadata": {},
     "output_type": "execute_result"
    }
   ],
   "source": [
    "logit6=LogisticRegression()\n",
    "logit6.fit(x_train6,y_train6)\n",
    "logit6.score(x_train6,y_train6)*100"
   ]
  },
  {
   "cell_type": "code",
   "execution_count": 30,
   "id": "cf7b2d71",
   "metadata": {
    "scrolled": true
   },
   "outputs": [
    {
     "data": {
      "text/plain": [
       "(61.61048689138576,\n",
       " 68.35205992509363,\n",
       " 77.90262172284645,\n",
       " 67.22846441947566,\n",
       " 79.21348314606742,\n",
       " 66.10486891385767,\n",
       " 67.22846441947566)"
      ]
     },
     "execution_count": 30,
     "metadata": {},
     "output_type": "execute_result"
    }
   ],
   "source": [
    "baseline_accuracy*100,logit.score(x_train,y_train)*100, logit2.score(x_train2,y_train2)*100, logit3.score(x_train3,y_train3)*100,logit4.score(x_train4,y_train4)*100,logit5.score(x_train5,y_train5)*100,logit6.score(x_train6,y_train6)*100"
   ]
  },
  {
   "cell_type": "markdown",
   "id": "3c19f8a8",
   "metadata": {},
   "source": [
    "4. Use you best 3 models to predict and evaluate on your validate sample.\n",
    " - my top three models are:\n",
    "  model 2, model 3, model 4"
   ]
  },
  {
   "cell_type": "markdown",
   "id": "4def5bc4",
   "metadata": {},
   "source": [
    "### Model 2 predict and evaluate on validate sample:\n",
    "#### Train: 77.90%"
   ]
  },
  {
   "cell_type": "code",
   "execution_count": 31,
   "id": "14377a8c",
   "metadata": {},
   "outputs": [
    {
     "name": "stdout",
     "output_type": "stream",
     "text": [
      "<class 'pandas.core.frame.DataFrame'>\n",
      "RangeIndex: 891 entries, 0 to 890\n",
      "Data columns (total 5 columns):\n",
      " #   Column    Non-Null Count  Dtype  \n",
      "---  ------    --------------  -----  \n",
      " 0   age       891 non-null    float64\n",
      " 1   fare      891 non-null    float64\n",
      " 2   pclass    891 non-null    int64  \n",
      " 3   sex       891 non-null    int64  \n",
      " 4   survived  891 non-null    int64  \n",
      "dtypes: float64(2), int64(3)\n",
      "memory usage: 34.9 KB\n"
     ]
    }
   ],
   "source": [
    "df2.info()"
   ]
  },
  {
   "cell_type": "code",
   "execution_count": 33,
   "id": "32d3c4d7",
   "metadata": {},
   "outputs": [
    {
     "data": {
      "text/plain": [
       "77.52808988764045"
      ]
     },
     "execution_count": 33,
     "metadata": {},
     "output_type": "execute_result"
    }
   ],
   "source": [
    "logit2.score(x_validate2,y_validate2)*100"
   ]
  },
  {
   "cell_type": "code",
   "execution_count": 41,
   "id": "b7659ee7",
   "metadata": {},
   "outputs": [],
   "source": [
    "y_pred=logit2.predict(x_validate2)"
   ]
  },
  {
   "cell_type": "code",
   "execution_count": 43,
   "id": "906ddb59",
   "metadata": {},
   "outputs": [
    {
     "data": {
      "text/plain": [
       "array([[90, 20],\n",
       "       [20, 48]])"
      ]
     },
     "execution_count": 43,
     "metadata": {},
     "output_type": "execute_result"
    }
   ],
   "source": [
    "confusion_matrix(y_validate2,y_pred)"
   ]
  },
  {
   "cell_type": "code",
   "execution_count": 57,
   "id": "14ae2ae9",
   "metadata": {},
   "outputs": [],
   "source": [
    "report2 = classification_report(y_validate2, y_pred, output_dict=True)"
   ]
  },
  {
   "cell_type": "code",
   "execution_count": 58,
   "id": "ae095c1b",
   "metadata": {},
   "outputs": [
    {
     "data": {
      "text/html": [
       "<div>\n",
       "<style scoped>\n",
       "    .dataframe tbody tr th:only-of-type {\n",
       "        vertical-align: middle;\n",
       "    }\n",
       "\n",
       "    .dataframe tbody tr th {\n",
       "        vertical-align: top;\n",
       "    }\n",
       "\n",
       "    .dataframe thead th {\n",
       "        text-align: right;\n",
       "    }\n",
       "</style>\n",
       "<table border=\"1\" class=\"dataframe\">\n",
       "  <thead>\n",
       "    <tr style=\"text-align: right;\">\n",
       "      <th></th>\n",
       "      <th>precision</th>\n",
       "      <th>recall</th>\n",
       "      <th>f1-score</th>\n",
       "      <th>support</th>\n",
       "    </tr>\n",
       "  </thead>\n",
       "  <tbody>\n",
       "    <tr>\n",
       "      <th>0</th>\n",
       "      <td>0.69</td>\n",
       "      <td>0.86</td>\n",
       "      <td>0.77</td>\n",
       "      <td>110.00</td>\n",
       "    </tr>\n",
       "    <tr>\n",
       "      <th>1</th>\n",
       "      <td>0.62</td>\n",
       "      <td>0.37</td>\n",
       "      <td>0.46</td>\n",
       "      <td>68.00</td>\n",
       "    </tr>\n",
       "    <tr>\n",
       "      <th>accuracy</th>\n",
       "      <td>0.67</td>\n",
       "      <td>0.67</td>\n",
       "      <td>0.67</td>\n",
       "      <td>0.67</td>\n",
       "    </tr>\n",
       "    <tr>\n",
       "      <th>macro avg</th>\n",
       "      <td>0.66</td>\n",
       "      <td>0.62</td>\n",
       "      <td>0.61</td>\n",
       "      <td>178.00</td>\n",
       "    </tr>\n",
       "    <tr>\n",
       "      <th>weighted avg</th>\n",
       "      <td>0.66</td>\n",
       "      <td>0.67</td>\n",
       "      <td>0.65</td>\n",
       "      <td>178.00</td>\n",
       "    </tr>\n",
       "  </tbody>\n",
       "</table>\n",
       "</div>"
      ],
      "text/plain": [
       "              precision  recall  f1-score  support\n",
       "0                  0.69    0.86      0.77   110.00\n",
       "1                  0.62    0.37      0.46    68.00\n",
       "accuracy           0.67    0.67      0.67     0.67\n",
       "macro avg          0.66    0.62      0.61   178.00\n",
       "weighted avg       0.66    0.67      0.65   178.00"
      ]
     },
     "execution_count": 58,
     "metadata": {},
     "output_type": "execute_result"
    }
   ],
   "source": [
    "cr2 = pd.DataFrame(report2).transpose().round(2)\n",
    "cr2"
   ]
  },
  {
   "cell_type": "markdown",
   "id": "c2b83145",
   "metadata": {},
   "source": [
    "### Model 3 predict and evaluate on validate sample:\n",
    "#### Train: 67.23%"
   ]
  },
  {
   "cell_type": "code",
   "execution_count": 52,
   "id": "36261e47",
   "metadata": {},
   "outputs": [
    {
     "data": {
      "text/plain": [
       "67.41573033707866"
      ]
     },
     "execution_count": 52,
     "metadata": {},
     "output_type": "execute_result"
    }
   ],
   "source": [
    "logit3.score(x_validate3,y_validate3)*100"
   ]
  },
  {
   "cell_type": "code",
   "execution_count": 59,
   "id": "8e3c639a",
   "metadata": {},
   "outputs": [],
   "source": [
    "y_pred=logit3.predict(x_validate3)"
   ]
  },
  {
   "cell_type": "code",
   "execution_count": 60,
   "id": "aeca0e40",
   "metadata": {},
   "outputs": [
    {
     "data": {
      "text/plain": [
       "array([[95, 15],\n",
       "       [43, 25]])"
      ]
     },
     "execution_count": 60,
     "metadata": {},
     "output_type": "execute_result"
    }
   ],
   "source": [
    "confusion_matrix(y_validate3,y_pred)"
   ]
  },
  {
   "cell_type": "code",
   "execution_count": 61,
   "id": "55e6b125",
   "metadata": {},
   "outputs": [
    {
     "data": {
      "text/html": [
       "<div>\n",
       "<style scoped>\n",
       "    .dataframe tbody tr th:only-of-type {\n",
       "        vertical-align: middle;\n",
       "    }\n",
       "\n",
       "    .dataframe tbody tr th {\n",
       "        vertical-align: top;\n",
       "    }\n",
       "\n",
       "    .dataframe thead th {\n",
       "        text-align: right;\n",
       "    }\n",
       "</style>\n",
       "<table border=\"1\" class=\"dataframe\">\n",
       "  <thead>\n",
       "    <tr style=\"text-align: right;\">\n",
       "      <th></th>\n",
       "      <th>precision</th>\n",
       "      <th>recall</th>\n",
       "      <th>f1-score</th>\n",
       "      <th>support</th>\n",
       "    </tr>\n",
       "  </thead>\n",
       "  <tbody>\n",
       "    <tr>\n",
       "      <th>0</th>\n",
       "      <td>0.69</td>\n",
       "      <td>0.86</td>\n",
       "      <td>0.77</td>\n",
       "      <td>110.00</td>\n",
       "    </tr>\n",
       "    <tr>\n",
       "      <th>1</th>\n",
       "      <td>0.62</td>\n",
       "      <td>0.37</td>\n",
       "      <td>0.46</td>\n",
       "      <td>68.00</td>\n",
       "    </tr>\n",
       "    <tr>\n",
       "      <th>accuracy</th>\n",
       "      <td>0.67</td>\n",
       "      <td>0.67</td>\n",
       "      <td>0.67</td>\n",
       "      <td>0.67</td>\n",
       "    </tr>\n",
       "    <tr>\n",
       "      <th>macro avg</th>\n",
       "      <td>0.66</td>\n",
       "      <td>0.62</td>\n",
       "      <td>0.61</td>\n",
       "      <td>178.00</td>\n",
       "    </tr>\n",
       "    <tr>\n",
       "      <th>weighted avg</th>\n",
       "      <td>0.66</td>\n",
       "      <td>0.67</td>\n",
       "      <td>0.65</td>\n",
       "      <td>178.00</td>\n",
       "    </tr>\n",
       "  </tbody>\n",
       "</table>\n",
       "</div>"
      ],
      "text/plain": [
       "              precision  recall  f1-score  support\n",
       "0                  0.69    0.86      0.77   110.00\n",
       "1                  0.62    0.37      0.46    68.00\n",
       "accuracy           0.67    0.67      0.67     0.67\n",
       "macro avg          0.66    0.62      0.61   178.00\n",
       "weighted avg       0.66    0.67      0.65   178.00"
      ]
     },
     "execution_count": 61,
     "metadata": {},
     "output_type": "execute_result"
    }
   ],
   "source": [
    "report3 = classification_report(y_validate3, y_pred, output_dict=True)\n",
    "cr3 = pd.DataFrame(report3).transpose().round(2)\n",
    "cr3"
   ]
  },
  {
   "cell_type": "markdown",
   "id": "21e8136f",
   "metadata": {},
   "source": [
    "### Model 4 predict and evaluate on validate sample:\n",
    "#### Train: 79.21%"
   ]
  },
  {
   "cell_type": "code",
   "execution_count": 62,
   "id": "0fcbe21a",
   "metadata": {},
   "outputs": [
    {
     "data": {
      "text/plain": [
       "77.52808988764045"
      ]
     },
     "execution_count": 62,
     "metadata": {},
     "output_type": "execute_result"
    }
   ],
   "source": [
    "logit4.score(x_validate4,y_validate4)*100"
   ]
  },
  {
   "cell_type": "code",
   "execution_count": 73,
   "id": "29cefd59",
   "metadata": {},
   "outputs": [],
   "source": [
    "y_pred=logit4.predict(x_validate4)"
   ]
  },
  {
   "cell_type": "code",
   "execution_count": 65,
   "id": "defa7c21",
   "metadata": {
    "scrolled": true
   },
   "outputs": [
    {
     "data": {
      "text/plain": [
       "array([[91, 19],\n",
       "       [21, 47]])"
      ]
     },
     "execution_count": 65,
     "metadata": {},
     "output_type": "execute_result"
    }
   ],
   "source": [
    "confusion_matrix(y_validate4,y_pred)"
   ]
  },
  {
   "cell_type": "code",
   "execution_count": 74,
   "id": "60c7646d",
   "metadata": {
    "scrolled": true
   },
   "outputs": [
    {
     "data": {
      "text/html": [
       "<div>\n",
       "<style scoped>\n",
       "    .dataframe tbody tr th:only-of-type {\n",
       "        vertical-align: middle;\n",
       "    }\n",
       "\n",
       "    .dataframe tbody tr th {\n",
       "        vertical-align: top;\n",
       "    }\n",
       "\n",
       "    .dataframe thead th {\n",
       "        text-align: right;\n",
       "    }\n",
       "</style>\n",
       "<table border=\"1\" class=\"dataframe\">\n",
       "  <thead>\n",
       "    <tr style=\"text-align: right;\">\n",
       "      <th></th>\n",
       "      <th>precision</th>\n",
       "      <th>recall</th>\n",
       "      <th>f1-score</th>\n",
       "      <th>support</th>\n",
       "    </tr>\n",
       "  </thead>\n",
       "  <tbody>\n",
       "    <tr>\n",
       "      <th>0</th>\n",
       "      <td>0.81</td>\n",
       "      <td>0.83</td>\n",
       "      <td>0.82</td>\n",
       "      <td>110.00</td>\n",
       "    </tr>\n",
       "    <tr>\n",
       "      <th>1</th>\n",
       "      <td>0.71</td>\n",
       "      <td>0.69</td>\n",
       "      <td>0.70</td>\n",
       "      <td>68.00</td>\n",
       "    </tr>\n",
       "    <tr>\n",
       "      <th>accuracy</th>\n",
       "      <td>0.78</td>\n",
       "      <td>0.78</td>\n",
       "      <td>0.78</td>\n",
       "      <td>0.78</td>\n",
       "    </tr>\n",
       "    <tr>\n",
       "      <th>macro avg</th>\n",
       "      <td>0.76</td>\n",
       "      <td>0.76</td>\n",
       "      <td>0.76</td>\n",
       "      <td>178.00</td>\n",
       "    </tr>\n",
       "    <tr>\n",
       "      <th>weighted avg</th>\n",
       "      <td>0.77</td>\n",
       "      <td>0.78</td>\n",
       "      <td>0.77</td>\n",
       "      <td>178.00</td>\n",
       "    </tr>\n",
       "  </tbody>\n",
       "</table>\n",
       "</div>"
      ],
      "text/plain": [
       "              precision  recall  f1-score  support\n",
       "0                  0.81    0.83      0.82   110.00\n",
       "1                  0.71    0.69      0.70    68.00\n",
       "accuracy           0.78    0.78      0.78     0.78\n",
       "macro avg          0.76    0.76      0.76   178.00\n",
       "weighted avg       0.77    0.78      0.77   178.00"
      ]
     },
     "execution_count": 74,
     "metadata": {},
     "output_type": "execute_result"
    }
   ],
   "source": [
    "report_v4 = classification_report(y_validate4, y_pred, output_dict=True)\n",
    "cr_v4 = pd.DataFrame(report_v4).transpose().round(2)\n",
    "cr_v4"
   ]
  },
  {
   "cell_type": "markdown",
   "id": "3c3cdd22",
   "metadata": {},
   "source": [
    "5. Choose you best model from the validation performation, and evaluate it on the test dataset. How do the performance metrics compare to validate? to train?"
   ]
  },
  {
   "cell_type": "markdown",
   "id": "73022baa",
   "metadata": {},
   "source": [
    "### Model 4 did best on validate sample:\n",
    "#### Train: 79.21 %\n",
    "#### Validate: 77.53%\n",
    "#### Test: 78.21%"
   ]
  },
  {
   "cell_type": "code",
   "execution_count": 67,
   "id": "81df8cec",
   "metadata": {
    "scrolled": true
   },
   "outputs": [
    {
     "data": {
      "text/plain": [
       "78.2122905027933"
      ]
     },
     "execution_count": 67,
     "metadata": {},
     "output_type": "execute_result"
    }
   ],
   "source": [
    "logit4.score(x_test4,y_test4)*100"
   ]
  },
  {
   "cell_type": "code",
   "execution_count": 70,
   "id": "eb89774a",
   "metadata": {},
   "outputs": [],
   "source": [
    "y_pred=logit4.predict(x_test4)"
   ]
  },
  {
   "cell_type": "code",
   "execution_count": 71,
   "id": "90d74cbf",
   "metadata": {
    "scrolled": true
   },
   "outputs": [
    {
     "data": {
      "text/html": [
       "<div>\n",
       "<style scoped>\n",
       "    .dataframe tbody tr th:only-of-type {\n",
       "        vertical-align: middle;\n",
       "    }\n",
       "\n",
       "    .dataframe tbody tr th {\n",
       "        vertical-align: top;\n",
       "    }\n",
       "\n",
       "    .dataframe thead th {\n",
       "        text-align: right;\n",
       "    }\n",
       "</style>\n",
       "<table border=\"1\" class=\"dataframe\">\n",
       "  <thead>\n",
       "    <tr style=\"text-align: right;\">\n",
       "      <th></th>\n",
       "      <th>precision</th>\n",
       "      <th>recall</th>\n",
       "      <th>f1-score</th>\n",
       "      <th>support</th>\n",
       "    </tr>\n",
       "  </thead>\n",
       "  <tbody>\n",
       "    <tr>\n",
       "      <th>0</th>\n",
       "      <td>0.80</td>\n",
       "      <td>0.85</td>\n",
       "      <td>0.83</td>\n",
       "      <td>110.00</td>\n",
       "    </tr>\n",
       "    <tr>\n",
       "      <th>1</th>\n",
       "      <td>0.74</td>\n",
       "      <td>0.67</td>\n",
       "      <td>0.70</td>\n",
       "      <td>69.00</td>\n",
       "    </tr>\n",
       "    <tr>\n",
       "      <th>accuracy</th>\n",
       "      <td>0.78</td>\n",
       "      <td>0.78</td>\n",
       "      <td>0.78</td>\n",
       "      <td>0.78</td>\n",
       "    </tr>\n",
       "    <tr>\n",
       "      <th>macro avg</th>\n",
       "      <td>0.77</td>\n",
       "      <td>0.76</td>\n",
       "      <td>0.77</td>\n",
       "      <td>179.00</td>\n",
       "    </tr>\n",
       "    <tr>\n",
       "      <th>weighted avg</th>\n",
       "      <td>0.78</td>\n",
       "      <td>0.78</td>\n",
       "      <td>0.78</td>\n",
       "      <td>179.00</td>\n",
       "    </tr>\n",
       "  </tbody>\n",
       "</table>\n",
       "</div>"
      ],
      "text/plain": [
       "              precision  recall  f1-score  support\n",
       "0                  0.80    0.85      0.83   110.00\n",
       "1                  0.74    0.67      0.70    69.00\n",
       "accuracy           0.78    0.78      0.78     0.78\n",
       "macro avg          0.77    0.76      0.77   179.00\n",
       "weighted avg       0.78    0.78      0.78   179.00"
      ]
     },
     "execution_count": 71,
     "metadata": {},
     "output_type": "execute_result"
    }
   ],
   "source": [
    "report_t4 = classification_report(y_test4, y_pred, output_dict=True)\n",
    "cr_t4 = pd.DataFrame(report_t4).transpose().round(2)\n",
    "cr_t4"
   ]
  },
  {
   "cell_type": "code",
   "execution_count": 114,
   "id": "20348316",
   "metadata": {},
   "outputs": [],
   "source": [
    "l_score4=logit4.score(x_train4,y_train4)*100\n",
    "v_score4=logit4.score(x_validate4,y_validate4)*100\n",
    "t_score4=logit4.score(x_test4,y_test4)*100\n",
    "baseline=baseline_accuracy*100"
   ]
  },
  {
   "cell_type": "code",
   "execution_count": 115,
   "id": "74ce85ba",
   "metadata": {},
   "outputs": [],
   "source": [
    "metrics=[]\n",
    "output = {\n",
    "        \"train_score\": l_score4,\n",
    "        \"validate_score\":v_score4 ,\n",
    "        \"test_score\": t_score4,\n",
    "        \n",
    "        \n",
    "    }\n",
    "    \n",
    "metrics.append(output)\n",
    "metrics=pd.DataFrame(metrics)"
   ]
  },
  {
   "cell_type": "code",
   "execution_count": 116,
   "id": "3e8722a4",
   "metadata": {},
   "outputs": [
    {
     "data": {
      "text/html": [
       "<div>\n",
       "<style scoped>\n",
       "    .dataframe tbody tr th:only-of-type {\n",
       "        vertical-align: middle;\n",
       "    }\n",
       "\n",
       "    .dataframe tbody tr th {\n",
       "        vertical-align: top;\n",
       "    }\n",
       "\n",
       "    .dataframe thead th {\n",
       "        text-align: right;\n",
       "    }\n",
       "</style>\n",
       "<table border=\"1\" class=\"dataframe\">\n",
       "  <thead>\n",
       "    <tr style=\"text-align: right;\">\n",
       "      <th></th>\n",
       "      <th>train_score</th>\n",
       "      <th>validate_score</th>\n",
       "      <th>test_score</th>\n",
       "    </tr>\n",
       "  </thead>\n",
       "  <tbody>\n",
       "    <tr>\n",
       "      <th>0</th>\n",
       "      <td>79.213483</td>\n",
       "      <td>77.52809</td>\n",
       "      <td>78.212291</td>\n",
       "    </tr>\n",
       "  </tbody>\n",
       "</table>\n",
       "</div>"
      ],
      "text/plain": [
       "   train_score  validate_score  test_score\n",
       "0    79.213483        77.52809   78.212291"
      ]
     },
     "execution_count": 116,
     "metadata": {},
     "output_type": "execute_result"
    }
   ],
   "source": [
    "metrics"
   ]
  },
  {
   "cell_type": "markdown",
   "id": "def963d7",
   "metadata": {},
   "source": [
    "### Bonus1:  How do different strategies for handling the missing values in the age column affect model performance?\n",
    "##### 1. using mean on age column, model 4: the percentage is 70.60\n",
    "##### 2. using the mode percentage stayed the same as using the mean.\n",
    "##### 3. using LOCF percentage dropped about 1-2%"
   ]
  },
  {
   "cell_type": "code",
   "execution_count": 177,
   "id": "e9a19d24",
   "metadata": {
    "scrolled": true
   },
   "outputs": [
    {
     "name": "stdout",
     "output_type": "stream",
     "text": [
      "<class 'pandas.core.frame.DataFrame'>\n",
      "RangeIndex: 891 entries, 0 to 890\n",
      "Data columns (total 12 columns):\n",
      " #   Column                   Non-Null Count  Dtype  \n",
      "---  ------                   --------------  -----  \n",
      " 0   passenger_id             891 non-null    int64  \n",
      " 1   survived                 891 non-null    int64  \n",
      " 2   pclass                   891 non-null    int64  \n",
      " 3   sex                      891 non-null    object \n",
      " 4   age                      714 non-null    float64\n",
      " 5   sibsp                    891 non-null    int64  \n",
      " 6   parch                    891 non-null    int64  \n",
      " 7   fare                     891 non-null    float64\n",
      " 8   embark_town              891 non-null    object \n",
      " 9   sex_male                 891 non-null    uint8  \n",
      " 10  embark_town_Queenstown   891 non-null    uint8  \n",
      " 11  embark_town_Southampton  891 non-null    uint8  \n",
      "dtypes: float64(2), int64(5), object(2), uint8(3)\n",
      "memory usage: 65.4+ KB\n"
     ]
    }
   ],
   "source": [
    "# USING MEAN for age\n",
    "titanic=acq.titanic_data()\n",
    "titanic=prep.prep_titanic(titanic)\n",
    "titanic.info()"
   ]
  },
  {
   "cell_type": "code",
   "execution_count": 179,
   "id": "5a15a259",
   "metadata": {},
   "outputs": [
    {
     "data": {
      "text/plain": [
       "29.69911764705882"
      ]
     },
     "execution_count": 179,
     "metadata": {},
     "output_type": "execute_result"
    }
   ],
   "source": [
    "titanic.age.mean()"
   ]
  },
  {
   "cell_type": "code",
   "execution_count": 180,
   "id": "ff25c80b",
   "metadata": {},
   "outputs": [
    {
     "name": "stdout",
     "output_type": "stream",
     "text": [
      "<class 'pandas.core.frame.DataFrame'>\n",
      "RangeIndex: 891 entries, 0 to 890\n",
      "Data columns (total 4 columns):\n",
      " #   Column    Non-Null Count  Dtype  \n",
      "---  ------    --------------  -----  \n",
      " 0   age       891 non-null    float64\n",
      " 1   fare      891 non-null    float64\n",
      " 2   pclass    891 non-null    int64  \n",
      " 3   survived  891 non-null    int64  \n",
      "dtypes: float64(2), int64(2)\n",
      "memory usage: 28.0 KB\n"
     ]
    },
    {
     "name": "stderr",
     "output_type": "stream",
     "text": [
      "/var/folders/wd/5_z1tvw94pv9x2ld8p_0dl2r0000gn/T/ipykernel_18778/2276208686.py:2: SettingWithCopyWarning: \n",
      "A value is trying to be set on a copy of a slice from a DataFrame.\n",
      "Try using .loc[row_indexer,col_indexer] = value instead\n",
      "\n",
      "See the caveats in the documentation: https://pandas.pydata.org/pandas-docs/stable/user_guide/indexing.html#returning-a-view-versus-a-copy\n",
      "  df1.age=titanic.age.fillna(29.70)\n"
     ]
    }
   ],
   "source": [
    "df1=titanic[['age','fare','pclass','survived']]\n",
    "df1.age=titanic.age.fillna(29.70)\n",
    "df1.info()"
   ]
  },
  {
   "cell_type": "code",
   "execution_count": 181,
   "id": "79779a30",
   "metadata": {},
   "outputs": [],
   "source": [
    "train,validate,test=prep.split_data(df1,'survived')\n",
    "x_train=train.drop(columns=['survived'])\n",
    "y_train=train.survived\n",
    "x_validate=validate.drop(columns=['survived'])\n",
    "y_validate=validate.survived\n",
    "x_test=test.drop(columns=['survived'])\n",
    "y_test=test.survived"
   ]
  },
  {
   "cell_type": "code",
   "execution_count": 182,
   "id": "ee8b30ce",
   "metadata": {},
   "outputs": [
    {
     "data": {
      "text/plain": [
       "70.59925093632958"
      ]
     },
     "execution_count": 182,
     "metadata": {},
     "output_type": "execute_result"
    }
   ],
   "source": [
    "logit=LogisticRegression()\n",
    "logit.fit(x_train,y_train)\n",
    "logit.score(x_train,y_train)*100"
   ]
  },
  {
   "cell_type": "code",
   "execution_count": 183,
   "id": "2bad8cfc",
   "metadata": {},
   "outputs": [
    {
     "data": {
      "text/plain": [
       "69.66292134831461"
      ]
     },
     "execution_count": 183,
     "metadata": {},
     "output_type": "execute_result"
    }
   ],
   "source": [
    "logit=LogisticRegression()\n",
    "logit.fit(x_train,y_train)\n",
    "logit.score(x_validate,y_validate)*100"
   ]
  },
  {
   "cell_type": "code",
   "execution_count": 184,
   "id": "8e0c6051",
   "metadata": {},
   "outputs": [
    {
     "data": {
      "text/plain": [
       "71.50837988826815"
      ]
     },
     "execution_count": 184,
     "metadata": {},
     "output_type": "execute_result"
    }
   ],
   "source": [
    "logit=LogisticRegression()\n",
    "logit.fit(x_train,y_train)\n",
    "logit.score(x_test,y_test)*100"
   ]
  },
  {
   "cell_type": "code",
   "execution_count": 186,
   "id": "34c94cd8",
   "metadata": {
    "scrolled": true
   },
   "outputs": [
    {
     "name": "stdout",
     "output_type": "stream",
     "text": [
      "<class 'pandas.core.frame.DataFrame'>\n",
      "RangeIndex: 891 entries, 0 to 890\n",
      "Data columns (total 12 columns):\n",
      " #   Column                   Non-Null Count  Dtype  \n",
      "---  ------                   --------------  -----  \n",
      " 0   passenger_id             891 non-null    int64  \n",
      " 1   survived                 891 non-null    int64  \n",
      " 2   pclass                   891 non-null    int64  \n",
      " 3   sex                      891 non-null    object \n",
      " 4   age                      714 non-null    float64\n",
      " 5   sibsp                    891 non-null    int64  \n",
      " 6   parch                    891 non-null    int64  \n",
      " 7   fare                     891 non-null    float64\n",
      " 8   embark_town              891 non-null    object \n",
      " 9   sex_male                 891 non-null    uint8  \n",
      " 10  embark_town_Queenstown   891 non-null    uint8  \n",
      " 11  embark_town_Southampton  891 non-null    uint8  \n",
      "dtypes: float64(2), int64(5), object(2), uint8(3)\n",
      "memory usage: 65.4+ KB\n"
     ]
    }
   ],
   "source": [
    "#USING MODE\n",
    "titanic=acq.titanic_data()\n",
    "titanic=prep.prep_titanic(titanic)\n",
    "titanic.info()\n"
   ]
  },
  {
   "cell_type": "code",
   "execution_count": 189,
   "id": "df0a851d",
   "metadata": {},
   "outputs": [
    {
     "data": {
      "text/plain": [
       "0    24.0\n",
       "Name: age, dtype: float64"
      ]
     },
     "execution_count": 189,
     "metadata": {},
     "output_type": "execute_result"
    }
   ],
   "source": [
    "titanic.age.mode()"
   ]
  },
  {
   "cell_type": "code",
   "execution_count": 194,
   "id": "1e5365e7",
   "metadata": {
    "scrolled": true
   },
   "outputs": [
    {
     "name": "stdout",
     "output_type": "stream",
     "text": [
      "<class 'pandas.core.frame.DataFrame'>\n",
      "RangeIndex: 891 entries, 0 to 890\n",
      "Data columns (total 4 columns):\n",
      " #   Column    Non-Null Count  Dtype  \n",
      "---  ------    --------------  -----  \n",
      " 0   age       891 non-null    float64\n",
      " 1   fare      891 non-null    float64\n",
      " 2   pclass    891 non-null    int64  \n",
      " 3   survived  891 non-null    int64  \n",
      "dtypes: float64(2), int64(2)\n",
      "memory usage: 28.0 KB\n"
     ]
    }
   ],
   "source": [
    "df2.age.fillna(24)\n",
    "df2.info()"
   ]
  },
  {
   "cell_type": "code",
   "execution_count": 195,
   "id": "61cd9b62",
   "metadata": {},
   "outputs": [],
   "source": [
    "train2,validate2,test2=prep.split_data(df2,'survived')"
   ]
  },
  {
   "cell_type": "code",
   "execution_count": 196,
   "id": "198dcd68",
   "metadata": {},
   "outputs": [],
   "source": [
    "x_train2=train2.drop(columns=['survived'])\n",
    "y_train2=train2.survived\n",
    "x_validate2=validate2.drop(columns=['survived'])\n",
    "y_validate2=validate2.survived\n",
    "x_test2=test2.drop(columns=['survived'])\n",
    "y_test2=test2.survived"
   ]
  },
  {
   "cell_type": "code",
   "execution_count": 197,
   "id": "d8fd08a9",
   "metadata": {},
   "outputs": [
    {
     "data": {
      "text/plain": [
       "70.4119850187266"
      ]
     },
     "execution_count": 197,
     "metadata": {},
     "output_type": "execute_result"
    }
   ],
   "source": [
    "logit2=LogisticRegression()\n",
    "logit2.fit(x_train2,y_train2)\n",
    "logit2.score(x_train2,y_train2)*100"
   ]
  },
  {
   "cell_type": "code",
   "execution_count": 198,
   "id": "db2ab155",
   "metadata": {},
   "outputs": [
    {
     "data": {
      "text/plain": [
       "69.10112359550563"
      ]
     },
     "execution_count": 198,
     "metadata": {},
     "output_type": "execute_result"
    }
   ],
   "source": [
    "logit2=LogisticRegression()\n",
    "logit2.fit(x_train2,y_train2)\n",
    "logit2.score(x_validate2,y_validate2)*100"
   ]
  },
  {
   "cell_type": "code",
   "execution_count": 199,
   "id": "7d698a88",
   "metadata": {},
   "outputs": [
    {
     "data": {
      "text/plain": [
       "71.50837988826815"
      ]
     },
     "execution_count": 199,
     "metadata": {},
     "output_type": "execute_result"
    }
   ],
   "source": [
    "logit2=LogisticRegression()\n",
    "logit2.fit(x_train2,y_train2)\n",
    "logit2.score(x_test2,y_test2)*100"
   ]
  },
  {
   "cell_type": "code",
   "execution_count": 212,
   "id": "cd98da7c",
   "metadata": {},
   "outputs": [
    {
     "name": "stdout",
     "output_type": "stream",
     "text": [
      "<class 'pandas.core.frame.DataFrame'>\n",
      "RangeIndex: 891 entries, 0 to 890\n",
      "Data columns (total 12 columns):\n",
      " #   Column                   Non-Null Count  Dtype  \n",
      "---  ------                   --------------  -----  \n",
      " 0   passenger_id             891 non-null    int64  \n",
      " 1   survived                 891 non-null    int64  \n",
      " 2   pclass                   891 non-null    int64  \n",
      " 3   sex                      891 non-null    object \n",
      " 4   age                      714 non-null    float64\n",
      " 5   sibsp                    891 non-null    int64  \n",
      " 6   parch                    891 non-null    int64  \n",
      " 7   fare                     891 non-null    float64\n",
      " 8   embark_town              891 non-null    object \n",
      " 9   sex_male                 891 non-null    uint8  \n",
      " 10  embark_town_Queenstown   891 non-null    uint8  \n",
      " 11  embark_town_Southampton  891 non-null    uint8  \n",
      "dtypes: float64(2), int64(5), object(2), uint8(3)\n",
      "memory usage: 65.4+ KB\n"
     ]
    }
   ],
   "source": [
    "# USIN LOCF\n",
    "titanic=acq.titanic_data()\n",
    "titanic=prep.prep_titanic(titanic)\n",
    "titanic.info()"
   ]
  },
  {
   "cell_type": "code",
   "execution_count": 213,
   "id": "51af53bc",
   "metadata": {
    "scrolled": true
   },
   "outputs": [
    {
     "name": "stderr",
     "output_type": "stream",
     "text": [
      "/var/folders/wd/5_z1tvw94pv9x2ld8p_0dl2r0000gn/T/ipykernel_18778/3914239768.py:2: SettingWithCopyWarning: \n",
      "A value is trying to be set on a copy of a slice from a DataFrame.\n",
      "Try using .loc[row_indexer,col_indexer] = value instead\n",
      "\n",
      "See the caveats in the documentation: https://pandas.pydata.org/pandas-docs/stable/user_guide/indexing.html#returning-a-view-versus-a-copy\n",
      "  df3[\"age\"] = df3[\"age\"].fillna(method='ffill')\n"
     ]
    }
   ],
   "source": [
    "df3=titanic[['age','fare','pclass','survived']]\n",
    "df3[\"age\"] = df3[\"age\"].fillna(method='ffill')"
   ]
  },
  {
   "cell_type": "code",
   "execution_count": 219,
   "id": "3738e7de",
   "metadata": {},
   "outputs": [
    {
     "name": "stdout",
     "output_type": "stream",
     "text": [
      "<class 'pandas.core.frame.DataFrame'>\n",
      "RangeIndex: 891 entries, 0 to 890\n",
      "Data columns (total 4 columns):\n",
      " #   Column    Non-Null Count  Dtype  \n",
      "---  ------    --------------  -----  \n",
      " 0   age       891 non-null    float64\n",
      " 1   fare      891 non-null    float64\n",
      " 2   pclass    891 non-null    int64  \n",
      " 3   survived  891 non-null    int64  \n",
      "dtypes: float64(2), int64(2)\n",
      "memory usage: 28.0 KB\n"
     ]
    }
   ],
   "source": [
    "df3.info()"
   ]
  },
  {
   "cell_type": "code",
   "execution_count": 214,
   "id": "1c2ad8bf",
   "metadata": {},
   "outputs": [],
   "source": [
    "train3,validate3,test3=prep.split_data(df3,'survived')"
   ]
  },
  {
   "cell_type": "code",
   "execution_count": 215,
   "id": "3b276843",
   "metadata": {},
   "outputs": [],
   "source": [
    "x_train3=train3.drop(columns=['survived'])\n",
    "y_train3=train3.survived\n",
    "x_validate3=validate3.drop(columns=['survived'])\n",
    "y_validate3=validate3.survived\n",
    "x_test3=test3.drop(columns=['survived'])\n",
    "y_test3=test3.survived"
   ]
  },
  {
   "cell_type": "code",
   "execution_count": 216,
   "id": "8ff418b9",
   "metadata": {},
   "outputs": [
    {
     "data": {
      "text/plain": [
       "69.47565543071161"
      ]
     },
     "execution_count": 216,
     "metadata": {},
     "output_type": "execute_result"
    }
   ],
   "source": [
    "logit3=LogisticRegression()\n",
    "logit3.fit(x_train3,y_train3)\n",
    "logit3.score(x_train3,y_train3)*100"
   ]
  },
  {
   "cell_type": "code",
   "execution_count": 217,
   "id": "baa92df6",
   "metadata": {},
   "outputs": [
    {
     "data": {
      "text/plain": [
       "69.10112359550563"
      ]
     },
     "execution_count": 217,
     "metadata": {},
     "output_type": "execute_result"
    }
   ],
   "source": [
    "logit3=LogisticRegression()\n",
    "logit3.fit(x_train3,y_train3)\n",
    "logit3.score(x_validate3,y_validate3)*100"
   ]
  },
  {
   "cell_type": "code",
   "execution_count": 218,
   "id": "ce7eb812",
   "metadata": {},
   "outputs": [
    {
     "data": {
      "text/plain": [
       "72.62569832402235"
      ]
     },
     "execution_count": 218,
     "metadata": {},
     "output_type": "execute_result"
    }
   ],
   "source": [
    "logit3=LogisticRegression()\n",
    "logit3.fit(x_train3,y_train3)\n",
    "logit3.score(x_test3,y_test3)*100"
   ]
  },
  {
   "cell_type": "markdown",
   "id": "7de94ec2",
   "metadata": {},
   "source": [
    "## Bonus 2: How do different strategies for encoding sex affect model performance?\n",
    "\n",
    "is_female: 79.1\n",
    "is_male: 78.1"
   ]
  },
  {
   "cell_type": "code",
   "execution_count": 224,
   "id": "87a5035d",
   "metadata": {},
   "outputs": [
    {
     "data": {
      "text/html": [
       "<div>\n",
       "<style scoped>\n",
       "    .dataframe tbody tr th:only-of-type {\n",
       "        vertical-align: middle;\n",
       "    }\n",
       "\n",
       "    .dataframe tbody tr th {\n",
       "        vertical-align: top;\n",
       "    }\n",
       "\n",
       "    .dataframe thead th {\n",
       "        text-align: right;\n",
       "    }\n",
       "</style>\n",
       "<table border=\"1\" class=\"dataframe\">\n",
       "  <thead>\n",
       "    <tr style=\"text-align: right;\">\n",
       "      <th></th>\n",
       "      <th>passenger_id</th>\n",
       "      <th>survived</th>\n",
       "      <th>pclass</th>\n",
       "      <th>sex</th>\n",
       "      <th>age</th>\n",
       "      <th>sibsp</th>\n",
       "      <th>parch</th>\n",
       "      <th>fare</th>\n",
       "      <th>embark_town</th>\n",
       "      <th>sex_male</th>\n",
       "      <th>embark_town_Queenstown</th>\n",
       "      <th>embark_town_Southampton</th>\n",
       "    </tr>\n",
       "  </thead>\n",
       "  <tbody>\n",
       "    <tr>\n",
       "      <th>0</th>\n",
       "      <td>0</td>\n",
       "      <td>0</td>\n",
       "      <td>3</td>\n",
       "      <td>male</td>\n",
       "      <td>22.0</td>\n",
       "      <td>1</td>\n",
       "      <td>0</td>\n",
       "      <td>7.2500</td>\n",
       "      <td>Southampton</td>\n",
       "      <td>1</td>\n",
       "      <td>0</td>\n",
       "      <td>1</td>\n",
       "    </tr>\n",
       "    <tr>\n",
       "      <th>1</th>\n",
       "      <td>1</td>\n",
       "      <td>1</td>\n",
       "      <td>1</td>\n",
       "      <td>female</td>\n",
       "      <td>38.0</td>\n",
       "      <td>1</td>\n",
       "      <td>0</td>\n",
       "      <td>71.2833</td>\n",
       "      <td>Cherbourg</td>\n",
       "      <td>0</td>\n",
       "      <td>0</td>\n",
       "      <td>0</td>\n",
       "    </tr>\n",
       "    <tr>\n",
       "      <th>2</th>\n",
       "      <td>2</td>\n",
       "      <td>1</td>\n",
       "      <td>3</td>\n",
       "      <td>female</td>\n",
       "      <td>26.0</td>\n",
       "      <td>0</td>\n",
       "      <td>0</td>\n",
       "      <td>7.9250</td>\n",
       "      <td>Southampton</td>\n",
       "      <td>0</td>\n",
       "      <td>0</td>\n",
       "      <td>1</td>\n",
       "    </tr>\n",
       "    <tr>\n",
       "      <th>3</th>\n",
       "      <td>3</td>\n",
       "      <td>1</td>\n",
       "      <td>1</td>\n",
       "      <td>female</td>\n",
       "      <td>35.0</td>\n",
       "      <td>1</td>\n",
       "      <td>0</td>\n",
       "      <td>53.1000</td>\n",
       "      <td>Southampton</td>\n",
       "      <td>0</td>\n",
       "      <td>0</td>\n",
       "      <td>1</td>\n",
       "    </tr>\n",
       "    <tr>\n",
       "      <th>4</th>\n",
       "      <td>4</td>\n",
       "      <td>0</td>\n",
       "      <td>3</td>\n",
       "      <td>male</td>\n",
       "      <td>35.0</td>\n",
       "      <td>0</td>\n",
       "      <td>0</td>\n",
       "      <td>8.0500</td>\n",
       "      <td>Southampton</td>\n",
       "      <td>1</td>\n",
       "      <td>0</td>\n",
       "      <td>1</td>\n",
       "    </tr>\n",
       "  </tbody>\n",
       "</table>\n",
       "</div>"
      ],
      "text/plain": [
       "   passenger_id  survived  pclass     sex   age  sibsp  parch     fare  \\\n",
       "0             0         0       3    male  22.0      1      0   7.2500   \n",
       "1             1         1       1  female  38.0      1      0  71.2833   \n",
       "2             2         1       3  female  26.0      0      0   7.9250   \n",
       "3             3         1       1  female  35.0      1      0  53.1000   \n",
       "4             4         0       3    male  35.0      0      0   8.0500   \n",
       "\n",
       "   embark_town  sex_male  embark_town_Queenstown  embark_town_Southampton  \n",
       "0  Southampton         1                       0                        1  \n",
       "1    Cherbourg         0                       0                        0  \n",
       "2  Southampton         0                       0                        1  \n",
       "3  Southampton         0                       0                        1  \n",
       "4  Southampton         1                       0                        1  "
      ]
     },
     "execution_count": 224,
     "metadata": {},
     "output_type": "execute_result"
    }
   ],
   "source": [
    "titanic=acq.titanic_data()\n",
    "titanic=prep.prep_titanic(titanic)\n",
    "titanic.head()"
   ]
  },
  {
   "cell_type": "code",
   "execution_count": 225,
   "id": "dd340258",
   "metadata": {},
   "outputs": [],
   "source": [
    "#FEMALE\n",
    "titanic.sex=(titanic.sex==\"female\")*1"
   ]
  },
  {
   "cell_type": "code",
   "execution_count": 226,
   "id": "b84901e6",
   "metadata": {},
   "outputs": [
    {
     "data": {
      "text/plain": [
       "0    577\n",
       "1    314\n",
       "Name: sex, dtype: int64"
      ]
     },
     "execution_count": 226,
     "metadata": {},
     "output_type": "execute_result"
    }
   ],
   "source": [
    "titanic.sex.value_counts()"
   ]
  },
  {
   "cell_type": "code",
   "execution_count": 230,
   "id": "f335cde3",
   "metadata": {},
   "outputs": [
    {
     "name": "stderr",
     "output_type": "stream",
     "text": [
      "/var/folders/wd/5_z1tvw94pv9x2ld8p_0dl2r0000gn/T/ipykernel_18778/2422814527.py:2: SettingWithCopyWarning: \n",
      "A value is trying to be set on a copy of a slice from a DataFrame.\n",
      "Try using .loc[row_indexer,col_indexer] = value instead\n",
      "\n",
      "See the caveats in the documentation: https://pandas.pydata.org/pandas-docs/stable/user_guide/indexing.html#returning-a-view-versus-a-copy\n",
      "  df2.age=df2.age.fillna(29.70)\n"
     ]
    }
   ],
   "source": [
    "df2=titanic[['age','fare','pclass','sex','survived']]\n",
    "df2.age=df2.age.fillna(29.70)"
   ]
  },
  {
   "cell_type": "code",
   "execution_count": 232,
   "id": "9d143f32",
   "metadata": {
    "scrolled": true
   },
   "outputs": [],
   "source": [
    "train2,validate2,test2=prep.split_data(df2,'survived')"
   ]
  },
  {
   "cell_type": "code",
   "execution_count": 233,
   "id": "59872b15",
   "metadata": {},
   "outputs": [],
   "source": [
    "x_train2=train2.drop(columns=['survived'])\n",
    "y_train2=train2.survived\n",
    "x_validate2=validate2.drop(columns=['survived'])\n",
    "y_validate2=validate2.survived\n",
    "x_test2=test2.drop(columns=['survived'])\n",
    "y_test2=test2.survived"
   ]
  },
  {
   "cell_type": "code",
   "execution_count": 234,
   "id": "efa57b0a",
   "metadata": {},
   "outputs": [
    {
     "data": {
      "text/plain": [
       "80.52434456928839"
      ]
     },
     "execution_count": 234,
     "metadata": {},
     "output_type": "execute_result"
    }
   ],
   "source": [
    "logit2=LogisticRegression()\n",
    "logit2.fit(x_train2,y_train2)\n",
    "logit2.score(x_train2,y_train2)*100"
   ]
  },
  {
   "cell_type": "code",
   "execution_count": 235,
   "id": "e6e85ae4",
   "metadata": {},
   "outputs": [
    {
     "data": {
      "text/plain": [
       "78.08988764044943"
      ]
     },
     "execution_count": 235,
     "metadata": {},
     "output_type": "execute_result"
    }
   ],
   "source": [
    "logit2=LogisticRegression()\n",
    "logit2.fit(x_train2,y_train2)\n",
    "logit2.score(x_validate2,y_validate2)*100"
   ]
  },
  {
   "cell_type": "code",
   "execution_count": 236,
   "id": "76d34cb6",
   "metadata": {
    "scrolled": true
   },
   "outputs": [
    {
     "data": {
      "text/plain": [
       "79.3296089385475"
      ]
     },
     "execution_count": 236,
     "metadata": {},
     "output_type": "execute_result"
    }
   ],
   "source": [
    "logit2=LogisticRegression()\n",
    "logit2.fit(x_train2,y_train2)\n",
    "logit2.score(x_test2,y_test2)*100"
   ]
  },
  {
   "cell_type": "code",
   "execution_count": 237,
   "id": "82a6afff",
   "metadata": {
    "scrolled": true
   },
   "outputs": [
    {
     "data": {
      "text/html": [
       "<div>\n",
       "<style scoped>\n",
       "    .dataframe tbody tr th:only-of-type {\n",
       "        vertical-align: middle;\n",
       "    }\n",
       "\n",
       "    .dataframe tbody tr th {\n",
       "        vertical-align: top;\n",
       "    }\n",
       "\n",
       "    .dataframe thead th {\n",
       "        text-align: right;\n",
       "    }\n",
       "</style>\n",
       "<table border=\"1\" class=\"dataframe\">\n",
       "  <thead>\n",
       "    <tr style=\"text-align: right;\">\n",
       "      <th></th>\n",
       "      <th>passenger_id</th>\n",
       "      <th>survived</th>\n",
       "      <th>pclass</th>\n",
       "      <th>sex</th>\n",
       "      <th>age</th>\n",
       "      <th>sibsp</th>\n",
       "      <th>parch</th>\n",
       "      <th>fare</th>\n",
       "      <th>embark_town</th>\n",
       "      <th>sex_male</th>\n",
       "      <th>embark_town_Queenstown</th>\n",
       "      <th>embark_town_Southampton</th>\n",
       "    </tr>\n",
       "  </thead>\n",
       "  <tbody>\n",
       "    <tr>\n",
       "      <th>0</th>\n",
       "      <td>0</td>\n",
       "      <td>0</td>\n",
       "      <td>3</td>\n",
       "      <td>male</td>\n",
       "      <td>22.0</td>\n",
       "      <td>1</td>\n",
       "      <td>0</td>\n",
       "      <td>7.2500</td>\n",
       "      <td>Southampton</td>\n",
       "      <td>1</td>\n",
       "      <td>0</td>\n",
       "      <td>1</td>\n",
       "    </tr>\n",
       "    <tr>\n",
       "      <th>1</th>\n",
       "      <td>1</td>\n",
       "      <td>1</td>\n",
       "      <td>1</td>\n",
       "      <td>female</td>\n",
       "      <td>38.0</td>\n",
       "      <td>1</td>\n",
       "      <td>0</td>\n",
       "      <td>71.2833</td>\n",
       "      <td>Cherbourg</td>\n",
       "      <td>0</td>\n",
       "      <td>0</td>\n",
       "      <td>0</td>\n",
       "    </tr>\n",
       "    <tr>\n",
       "      <th>2</th>\n",
       "      <td>2</td>\n",
       "      <td>1</td>\n",
       "      <td>3</td>\n",
       "      <td>female</td>\n",
       "      <td>26.0</td>\n",
       "      <td>0</td>\n",
       "      <td>0</td>\n",
       "      <td>7.9250</td>\n",
       "      <td>Southampton</td>\n",
       "      <td>0</td>\n",
       "      <td>0</td>\n",
       "      <td>1</td>\n",
       "    </tr>\n",
       "    <tr>\n",
       "      <th>3</th>\n",
       "      <td>3</td>\n",
       "      <td>1</td>\n",
       "      <td>1</td>\n",
       "      <td>female</td>\n",
       "      <td>35.0</td>\n",
       "      <td>1</td>\n",
       "      <td>0</td>\n",
       "      <td>53.1000</td>\n",
       "      <td>Southampton</td>\n",
       "      <td>0</td>\n",
       "      <td>0</td>\n",
       "      <td>1</td>\n",
       "    </tr>\n",
       "    <tr>\n",
       "      <th>4</th>\n",
       "      <td>4</td>\n",
       "      <td>0</td>\n",
       "      <td>3</td>\n",
       "      <td>male</td>\n",
       "      <td>35.0</td>\n",
       "      <td>0</td>\n",
       "      <td>0</td>\n",
       "      <td>8.0500</td>\n",
       "      <td>Southampton</td>\n",
       "      <td>1</td>\n",
       "      <td>0</td>\n",
       "      <td>1</td>\n",
       "    </tr>\n",
       "  </tbody>\n",
       "</table>\n",
       "</div>"
      ],
      "text/plain": [
       "   passenger_id  survived  pclass     sex   age  sibsp  parch     fare  \\\n",
       "0             0         0       3    male  22.0      1      0   7.2500   \n",
       "1             1         1       1  female  38.0      1      0  71.2833   \n",
       "2             2         1       3  female  26.0      0      0   7.9250   \n",
       "3             3         1       1  female  35.0      1      0  53.1000   \n",
       "4             4         0       3    male  35.0      0      0   8.0500   \n",
       "\n",
       "   embark_town  sex_male  embark_town_Queenstown  embark_town_Southampton  \n",
       "0  Southampton         1                       0                        1  \n",
       "1    Cherbourg         0                       0                        0  \n",
       "2  Southampton         0                       0                        1  \n",
       "3  Southampton         0                       0                        1  \n",
       "4  Southampton         1                       0                        1  "
      ]
     },
     "execution_count": 237,
     "metadata": {},
     "output_type": "execute_result"
    }
   ],
   "source": [
    "titanic=acq.titanic_data()\n",
    "titanic=prep.prep_titanic(titanic)\n",
    "titanic.head()"
   ]
  },
  {
   "cell_type": "code",
   "execution_count": 238,
   "id": "b2af001b",
   "metadata": {},
   "outputs": [],
   "source": [
    "#MALE\n",
    "titanic.sex=(titanic.sex==\"male\")*1"
   ]
  },
  {
   "cell_type": "code",
   "execution_count": 239,
   "id": "b6c5be9a",
   "metadata": {
    "scrolled": true
   },
   "outputs": [
    {
     "name": "stderr",
     "output_type": "stream",
     "text": [
      "/var/folders/wd/5_z1tvw94pv9x2ld8p_0dl2r0000gn/T/ipykernel_18778/332253079.py:2: SettingWithCopyWarning: \n",
      "A value is trying to be set on a copy of a slice from a DataFrame.\n",
      "Try using .loc[row_indexer,col_indexer] = value instead\n",
      "\n",
      "See the caveats in the documentation: https://pandas.pydata.org/pandas-docs/stable/user_guide/indexing.html#returning-a-view-versus-a-copy\n",
      "  df3.age=df3.age.fillna(29.70)\n"
     ]
    }
   ],
   "source": [
    "df3=titanic[['age','fare','pclass','sex','survived']]\n",
    "df3.age=df3.age.fillna(29.70)"
   ]
  },
  {
   "cell_type": "code",
   "execution_count": 240,
   "id": "a9c35cc8",
   "metadata": {},
   "outputs": [],
   "source": [
    "train3,validate3,test3=prep.split_data(df3,'survived')"
   ]
  },
  {
   "cell_type": "code",
   "execution_count": 241,
   "id": "af757342",
   "metadata": {},
   "outputs": [],
   "source": [
    "x_train3=train3.drop(columns=['survived'])\n",
    "y_train3=train3.survived\n",
    "x_validate3=validate3.drop(columns=['survived'])\n",
    "y_validate3=validate3.survived\n",
    "x_test3=test3.drop(columns=['survived'])\n",
    "y_test3=test3.survived"
   ]
  },
  {
   "cell_type": "code",
   "execution_count": 242,
   "id": "8bb2e73f",
   "metadata": {},
   "outputs": [
    {
     "data": {
      "text/plain": [
       "78.08988764044943"
      ]
     },
     "execution_count": 242,
     "metadata": {},
     "output_type": "execute_result"
    }
   ],
   "source": [
    "logit3=LogisticRegression()\n",
    "logit3.fit(x_train3,y_train3)\n",
    "logit3.score(x_validate3,y_validate3)*100"
   ]
  },
  {
   "cell_type": "markdown",
   "id": "1901cb86",
   "metadata": {},
   "source": [
    "## Bonus 3:Try out the following values for C and note how the coefficients and the model's performance on both the dataset it was trained on and on the validate split are affected.\n",
    " - C=.01,.1,1,10,100,1000"
   ]
  },
  {
   "cell_type": "code",
   "execution_count": 243,
   "id": "09e1a238",
   "metadata": {},
   "outputs": [
    {
     "data": {
      "text/plain": [
       "70.59925093632958"
      ]
     },
     "execution_count": 243,
     "metadata": {},
     "output_type": "execute_result"
    }
   ],
   "source": [
    "logit2=LogisticRegression(C=.01)\n",
    "logit2.fit(x_train2,y_train2)\n",
    "logit2.score(x_train2,y_train2)*100"
   ]
  },
  {
   "cell_type": "code",
   "execution_count": 244,
   "id": "fbe2f8a5",
   "metadata": {},
   "outputs": [
    {
     "data": {
      "text/plain": [
       "71.91011235955057"
      ]
     },
     "execution_count": 244,
     "metadata": {},
     "output_type": "execute_result"
    }
   ],
   "source": [
    "logit2=LogisticRegression(C=.01)\n",
    "logit2.fit(x_train2,y_train2)\n",
    "logit2.score(x_validate2,y_validate2)*100"
   ]
  },
  {
   "cell_type": "code",
   "execution_count": 245,
   "id": "82dea872",
   "metadata": {},
   "outputs": [
    {
     "data": {
      "text/plain": [
       "76.53631284916202"
      ]
     },
     "execution_count": 245,
     "metadata": {},
     "output_type": "execute_result"
    }
   ],
   "source": [
    "logit2=LogisticRegression(C=.01)\n",
    "logit2.fit(x_train2,y_train2)\n",
    "logit2.score(x_test2,y_test2)*100"
   ]
  },
  {
   "cell_type": "code",
   "execution_count": 246,
   "id": "ee6c72d2",
   "metadata": {},
   "outputs": [
    {
     "data": {
      "text/plain": [
       "78.27715355805243"
      ]
     },
     "execution_count": 246,
     "metadata": {},
     "output_type": "execute_result"
    }
   ],
   "source": [
    "logit2=LogisticRegression(C=.1)\n",
    "logit2.fit(x_train2,y_train2)\n",
    "logit2.score(x_train2,y_train2)*100"
   ]
  },
  {
   "cell_type": "code",
   "execution_count": 248,
   "id": "46ec5a92",
   "metadata": {},
   "outputs": [
    {
     "data": {
      "text/plain": [
       "79.21348314606742"
      ]
     },
     "execution_count": 248,
     "metadata": {},
     "output_type": "execute_result"
    }
   ],
   "source": [
    "logit2=LogisticRegression(C=.1)\n",
    "logit2.fit(x_train2,y_train2)\n",
    "logit2.score(x_validate2,y_validate2)*100"
   ]
  },
  {
   "cell_type": "code",
   "execution_count": 249,
   "id": "570e7053",
   "metadata": {},
   "outputs": [
    {
     "data": {
      "text/plain": [
       "78.77094972067039"
      ]
     },
     "execution_count": 249,
     "metadata": {},
     "output_type": "execute_result"
    }
   ],
   "source": [
    "logit2=LogisticRegression(C=.1)\n",
    "logit2.fit(x_train2,y_train2)\n",
    "logit2.score(x_test2,y_test2)*100"
   ]
  },
  {
   "cell_type": "code",
   "execution_count": 250,
   "id": "39da85f7",
   "metadata": {},
   "outputs": [
    {
     "data": {
      "text/plain": [
       "80.52434456928839"
      ]
     },
     "execution_count": 250,
     "metadata": {},
     "output_type": "execute_result"
    }
   ],
   "source": [
    "logit2=LogisticRegression(C=1)\n",
    "logit2.fit(x_train2,y_train2)\n",
    "logit2.score(x_train2,y_train2)*100"
   ]
  },
  {
   "cell_type": "code",
   "execution_count": 251,
   "id": "5b0bd619",
   "metadata": {},
   "outputs": [
    {
     "data": {
      "text/plain": [
       "78.08988764044943"
      ]
     },
     "execution_count": 251,
     "metadata": {},
     "output_type": "execute_result"
    }
   ],
   "source": [
    "logit2=LogisticRegression(C=1)\n",
    "logit2.fit(x_train2,y_train2)\n",
    "logit2.score(x_validate2,y_validate2)*100"
   ]
  },
  {
   "cell_type": "code",
   "execution_count": 252,
   "id": "f16d865c",
   "metadata": {},
   "outputs": [
    {
     "data": {
      "text/plain": [
       "79.3296089385475"
      ]
     },
     "execution_count": 252,
     "metadata": {},
     "output_type": "execute_result"
    }
   ],
   "source": [
    "logit2=LogisticRegression(C=1)\n",
    "logit2.fit(x_train2,y_train2)\n",
    "logit2.score(x_test2,y_test2)*100"
   ]
  },
  {
   "cell_type": "code",
   "execution_count": 253,
   "id": "9e46404f",
   "metadata": {},
   "outputs": [
    {
     "data": {
      "text/plain": [
       "80.71161048689139"
      ]
     },
     "execution_count": 253,
     "metadata": {},
     "output_type": "execute_result"
    }
   ],
   "source": [
    "logit2=LogisticRegression(C=10)\n",
    "logit2.fit(x_train2,y_train2)\n",
    "logit2.score(x_train2,y_train2)*100"
   ]
  },
  {
   "cell_type": "code",
   "execution_count": 254,
   "id": "e53ad883",
   "metadata": {
    "scrolled": true
   },
   "outputs": [
    {
     "data": {
      "text/plain": [
       "77.52808988764045"
      ]
     },
     "execution_count": 254,
     "metadata": {},
     "output_type": "execute_result"
    }
   ],
   "source": [
    "logit2=LogisticRegression(C=10)\n",
    "logit2.fit(x_train2,y_train2)\n",
    "logit2.score(x_validate2,y_validate2)*100"
   ]
  },
  {
   "cell_type": "code",
   "execution_count": 255,
   "id": "56bc868c",
   "metadata": {},
   "outputs": [
    {
     "data": {
      "text/plain": [
       "79.3296089385475"
      ]
     },
     "execution_count": 255,
     "metadata": {},
     "output_type": "execute_result"
    }
   ],
   "source": [
    "logit2=LogisticRegression(C=10)\n",
    "logit2.fit(x_train2,y_train2)\n",
    "logit2.score(x_test2,y_test2)*100"
   ]
  },
  {
   "cell_type": "code",
   "execution_count": 256,
   "id": "c3bcd9dc",
   "metadata": {},
   "outputs": [
    {
     "data": {
      "text/plain": [
       "80.52434456928839"
      ]
     },
     "execution_count": 256,
     "metadata": {},
     "output_type": "execute_result"
    }
   ],
   "source": [
    "logit2=LogisticRegression(C=100)\n",
    "logit2.fit(x_train2,y_train2)\n",
    "logit2.score(x_train2,y_train2)*100"
   ]
  },
  {
   "cell_type": "code",
   "execution_count": 257,
   "id": "6f4da63a",
   "metadata": {
    "scrolled": true
   },
   "outputs": [
    {
     "data": {
      "text/plain": [
       "77.52808988764045"
      ]
     },
     "execution_count": 257,
     "metadata": {},
     "output_type": "execute_result"
    }
   ],
   "source": [
    "logit2=LogisticRegression(C=100)\n",
    "logit2.fit(x_train2,y_train2)\n",
    "logit2.score(x_validate2,y_validate2)*100"
   ]
  },
  {
   "cell_type": "code",
   "execution_count": 258,
   "id": "0642237a",
   "metadata": {},
   "outputs": [
    {
     "data": {
      "text/plain": [
       "79.3296089385475"
      ]
     },
     "execution_count": 258,
     "metadata": {},
     "output_type": "execute_result"
    }
   ],
   "source": [
    "logit2=LogisticRegression(C=100)\n",
    "logit2.fit(x_train2,y_train2)\n",
    "logit2.score(x_test2,y_test2)*100"
   ]
  },
  {
   "cell_type": "code",
   "execution_count": 259,
   "id": "d763f4f6",
   "metadata": {},
   "outputs": [
    {
     "data": {
      "text/plain": [
       "80.52434456928839"
      ]
     },
     "execution_count": 259,
     "metadata": {},
     "output_type": "execute_result"
    }
   ],
   "source": [
    "logit2=LogisticRegression(C=1000)\n",
    "logit2.fit(x_train2,y_train2)\n",
    "logit2.score(x_train2,y_train2)*100"
   ]
  },
  {
   "cell_type": "code",
   "execution_count": 260,
   "id": "c3c567fc",
   "metadata": {
    "scrolled": true
   },
   "outputs": [
    {
     "data": {
      "text/plain": [
       "77.52808988764045"
      ]
     },
     "execution_count": 260,
     "metadata": {},
     "output_type": "execute_result"
    }
   ],
   "source": [
    "logit2=LogisticRegression(C=1000)\n",
    "logit2.fit(x_train2,y_train2)\n",
    "logit2.score(x_validate2,y_validate2)*100"
   ]
  },
  {
   "cell_type": "code",
   "execution_count": 261,
   "id": "af526f37",
   "metadata": {},
   "outputs": [
    {
     "data": {
      "text/plain": [
       "79.3296089385475"
      ]
     },
     "execution_count": 261,
     "metadata": {},
     "output_type": "execute_result"
    }
   ],
   "source": [
    "logit2=LogisticRegression(C=1000)\n",
    "logit2.fit(x_train2,y_train2)\n",
    "logit2.score(x_test2,y_test2)*100"
   ]
  },
  {
   "cell_type": "code",
   "execution_count": null,
   "id": "77014bfe",
   "metadata": {},
   "outputs": [],
   "source": []
  }
 ],
 "metadata": {
  "kernelspec": {
   "display_name": "Python 3 (ipykernel)",
   "language": "python",
   "name": "python3"
  },
  "language_info": {
   "codemirror_mode": {
    "name": "ipython",
    "version": 3
   },
   "file_extension": ".py",
   "mimetype": "text/x-python",
   "name": "python",
   "nbconvert_exporter": "python",
   "pygments_lexer": "ipython3",
   "version": "3.9.13"
  }
 },
 "nbformat": 4,
 "nbformat_minor": 5
}

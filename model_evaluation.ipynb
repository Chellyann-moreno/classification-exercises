{
 "cells": [
  {
   "cell_type": "markdown",
   "id": "ba1b8172",
   "metadata": {},
   "source": [
    "|               | pred dog   | pred cat   |\n",
    "|:------------  |-----------:|-----------:|\n",
    "| actual dog    |         46 |         7  |\n",
    "| actual cat    |         13 |         34 |\n"
   ]
  },
  {
   "cell_type": "code",
   "execution_count": 49,
   "id": "cd5a2bb6",
   "metadata": {},
   "outputs": [],
   "source": [
    "# 2.\n",
    " #In the context of this problem, what is a false positive?\n",
    " \n",
    "   #A False positive you predict a dog but get a cat.\n",
    "   \n",
    " #In the context of this problem, what is a false negative?\n",
    " #predict a cat and get a dog \n",
    " #How would you describe this model?\n",
    " #TP: Predict a dog and get a dog.\n",
    "tp=46\n",
    "   #tN: Predict a cat and get a cat. \n",
    "tn=34\n",
    "  #FP: Predict a dog and get a cat.\n",
    "fp=13\n",
    "  #FN: Predict cat and get a doc\n",
    "fn=7"
   ]
  },
  {
   "cell_type": "code",
   "execution_count": null,
   "id": "19db537a",
   "metadata": {},
   "outputs": [],
   "source": []
  },
  {
   "cell_type": "markdown",
   "id": "ff5d9f60",
   "metadata": {},
   "source": [
    "# 3. You are working as a datascientist working for Codeup Cody Creator (C3 for short), a rubber-duck manufacturing plant.\n",
    "\n",
    "- Unfortunately, some of the rubber ducks that are produced will have defects. Your team has built several models that try to predict those defects, and the data from their predictions can be found here.\n",
    "\n",
    "- Use the predictions dataset and pandas to help answer the following questions:\n",
    "\n",
    "3a. An internal team wants to investigate the cause of the manufacturing defects. They tell you that they want to identify as many of the ducks that have a defect as possible. Which evaluation metric would be appropriate here? Which model would be the best fit for this use case?\n",
    " * Accuracy\n",
    " * Recall\n",
    "\n",
    "3b. Recently several stories in the local news have come out highlighting customers who received a rubber duck with a defect, and portraying C3 in a bad light. The PR team has decided to launch a program that gives customers with a defective duck a vacation to Hawaii. They need you to predict which ducks will have defects, but tell you the really don't want to accidentally give out a vacation package when the duck really doesn't have a defect. Which evaluation metric would be appropriate here? Which model would be the best fit for this use case?\n",
    "- Precision\n",
    "- Recall"
   ]
  },
  {
   "cell_type": "code",
   "execution_count": 50,
   "id": "a24e5fed",
   "metadata": {},
   "outputs": [],
   "source": [
    "import pandas as pd\n",
    "from sklearn.metrics import precision_score\n",
    "from sklearn.metrics import accuracy_score\n",
    "from sklearn.metrics import recall_score\n",
    "from sklearn.metrics import classification_report"
   ]
  },
  {
   "cell_type": "code",
   "execution_count": 51,
   "id": "f38d6037",
   "metadata": {},
   "outputs": [
    {
     "data": {
      "text/html": [
       "<div>\n",
       "<style scoped>\n",
       "    .dataframe tbody tr th:only-of-type {\n",
       "        vertical-align: middle;\n",
       "    }\n",
       "\n",
       "    .dataframe tbody tr th {\n",
       "        vertical-align: top;\n",
       "    }\n",
       "\n",
       "    .dataframe thead th {\n",
       "        text-align: right;\n",
       "    }\n",
       "</style>\n",
       "<table border=\"1\" class=\"dataframe\">\n",
       "  <thead>\n",
       "    <tr style=\"text-align: right;\">\n",
       "      <th></th>\n",
       "      <th>actual</th>\n",
       "      <th>model1</th>\n",
       "      <th>model2</th>\n",
       "      <th>model3</th>\n",
       "    </tr>\n",
       "  </thead>\n",
       "  <tbody>\n",
       "    <tr>\n",
       "      <th>0</th>\n",
       "      <td>No Defect</td>\n",
       "      <td>No Defect</td>\n",
       "      <td>Defect</td>\n",
       "      <td>No Defect</td>\n",
       "    </tr>\n",
       "    <tr>\n",
       "      <th>1</th>\n",
       "      <td>No Defect</td>\n",
       "      <td>No Defect</td>\n",
       "      <td>Defect</td>\n",
       "      <td>Defect</td>\n",
       "    </tr>\n",
       "    <tr>\n",
       "      <th>2</th>\n",
       "      <td>No Defect</td>\n",
       "      <td>No Defect</td>\n",
       "      <td>Defect</td>\n",
       "      <td>No Defect</td>\n",
       "    </tr>\n",
       "    <tr>\n",
       "      <th>3</th>\n",
       "      <td>No Defect</td>\n",
       "      <td>Defect</td>\n",
       "      <td>Defect</td>\n",
       "      <td>Defect</td>\n",
       "    </tr>\n",
       "    <tr>\n",
       "      <th>4</th>\n",
       "      <td>No Defect</td>\n",
       "      <td>No Defect</td>\n",
       "      <td>Defect</td>\n",
       "      <td>No Defect</td>\n",
       "    </tr>\n",
       "  </tbody>\n",
       "</table>\n",
       "</div>"
      ],
      "text/plain": [
       "      actual     model1  model2     model3\n",
       "0  No Defect  No Defect  Defect  No Defect\n",
       "1  No Defect  No Defect  Defect     Defect\n",
       "2  No Defect  No Defect  Defect  No Defect\n",
       "3  No Defect     Defect  Defect     Defect\n",
       "4  No Defect  No Defect  Defect  No Defect"
      ]
     },
     "execution_count": 51,
     "metadata": {},
     "output_type": "execute_result"
    }
   ],
   "source": [
    "df = pd.read_csv('c3.csv')\n",
    "df.head()"
   ]
  },
  {
   "cell_type": "code",
   "execution_count": 52,
   "id": "a2dea213",
   "metadata": {},
   "outputs": [],
   "source": [
    "subset = df[df.actual == \"Defect\"]\n",
    "df['baseline_prediction'] = \"Defect\""
   ]
  },
  {
   "cell_type": "code",
   "execution_count": 57,
   "id": "88bc0802",
   "metadata": {},
   "outputs": [
    {
     "data": {
      "text/plain": [
       "(50.0, 56.25, 81.25)"
      ]
     },
     "execution_count": 57,
     "metadata": {},
     "output_type": "execute_result"
    }
   ],
   "source": [
    "model1_recall= (subset.actual==subset.model1).mean()*100\n",
    "model2_recall= (subset.actual==subset.model2).mean()*100\n",
    "model3_recall= (subset.actual==subset.model3).mean()*100\n",
    "model1_recall, model2_recall,model3_recall"
   ]
  },
  {
   "cell_type": "code",
   "execution_count": 61,
   "id": "9188f0e8",
   "metadata": {},
   "outputs": [
    {
     "data": {
      "text/plain": [
       "(80.0, 10.0, 13.131313131313133)"
      ]
     },
     "execution_count": 61,
     "metadata": {},
     "output_type": "execute_result"
    }
   ],
   "source": [
    "subset = df[df.model1 == 'Defect']\n",
    "model1_precision = (subset.actual == subset.model1).mean()*100\n",
    "\n",
    "subset2= df[df.model2 == 'Defect']\n",
    "model2_precision = (subset2.actual == subset2.model2).mean()*100\n",
    "\n",
    "subset3=df[df.model3 == 'Defect']\n",
    "\n",
    "model3_precision = (subset3.actual == subset3.model3).mean()*100\n",
    "\n",
    "model1_precision,model2_precision,model3_precision"
   ]
  },
  {
   "cell_type": "code",
   "execution_count": null,
   "id": "bb7c0a28",
   "metadata": {},
   "outputs": [],
   "source": []
  },
  {
   "cell_type": "markdown",
   "id": "059b8a51",
   "metadata": {},
   "source": [
    "# 4. You are working as a data scientist for Gives You Paws ™, a subscription based service that shows you cute pictures of dogs or cats (or both for an additional fee).\n",
    "\n",
    "- At Gives You Paws, anyone can upload pictures of their cats or dogs. The photos are then put through a two step process. First an automated algorithm tags pictures as either a cat or a dog (Phase I). Next, the photos that have been initially identified are put through another round of review, possibly with some human oversight, before being presented to the users (Phase II).\n",
    "\n",
    "- Several models have already been developed with the data, and you can find their results here.\n",
    "\n",
    "- Given this dataset, use pandas to create a baseline model (i.e. a model that just predicts the most common class) and answer the following questions:\n",
    "\n",
    "4a. In terms of accuracy, how do the various models compare to the baseline model? Are any of the models better than the baseline?\n",
    "\n",
    "4b. Suppose you are working on a team that solely deals with dog pictures. Which of these models would you recommend?\n",
    "\n",
    "4c. Suppose you are working on a team that solely deals with cat pictures. Which of these models would you recommend?\n"
   ]
  },
  {
   "cell_type": "code",
   "execution_count": 62,
   "id": "483b010b",
   "metadata": {},
   "outputs": [
    {
     "data": {
      "text/html": [
       "<div>\n",
       "<style scoped>\n",
       "    .dataframe tbody tr th:only-of-type {\n",
       "        vertical-align: middle;\n",
       "    }\n",
       "\n",
       "    .dataframe tbody tr th {\n",
       "        vertical-align: top;\n",
       "    }\n",
       "\n",
       "    .dataframe thead th {\n",
       "        text-align: right;\n",
       "    }\n",
       "</style>\n",
       "<table border=\"1\" class=\"dataframe\">\n",
       "  <thead>\n",
       "    <tr style=\"text-align: right;\">\n",
       "      <th></th>\n",
       "      <th>actual</th>\n",
       "      <th>model1</th>\n",
       "      <th>model2</th>\n",
       "      <th>model3</th>\n",
       "      <th>model4</th>\n",
       "    </tr>\n",
       "  </thead>\n",
       "  <tbody>\n",
       "    <tr>\n",
       "      <th>0</th>\n",
       "      <td>cat</td>\n",
       "      <td>cat</td>\n",
       "      <td>dog</td>\n",
       "      <td>cat</td>\n",
       "      <td>dog</td>\n",
       "    </tr>\n",
       "    <tr>\n",
       "      <th>1</th>\n",
       "      <td>dog</td>\n",
       "      <td>dog</td>\n",
       "      <td>cat</td>\n",
       "      <td>cat</td>\n",
       "      <td>dog</td>\n",
       "    </tr>\n",
       "    <tr>\n",
       "      <th>2</th>\n",
       "      <td>dog</td>\n",
       "      <td>cat</td>\n",
       "      <td>cat</td>\n",
       "      <td>cat</td>\n",
       "      <td>dog</td>\n",
       "    </tr>\n",
       "    <tr>\n",
       "      <th>3</th>\n",
       "      <td>dog</td>\n",
       "      <td>dog</td>\n",
       "      <td>dog</td>\n",
       "      <td>cat</td>\n",
       "      <td>dog</td>\n",
       "    </tr>\n",
       "    <tr>\n",
       "      <th>4</th>\n",
       "      <td>cat</td>\n",
       "      <td>cat</td>\n",
       "      <td>cat</td>\n",
       "      <td>dog</td>\n",
       "      <td>dog</td>\n",
       "    </tr>\n",
       "  </tbody>\n",
       "</table>\n",
       "</div>"
      ],
      "text/plain": [
       "  actual model1 model2 model3 model4\n",
       "0    cat    cat    dog    cat    dog\n",
       "1    dog    dog    cat    cat    dog\n",
       "2    dog    cat    cat    cat    dog\n",
       "3    dog    dog    dog    cat    dog\n",
       "4    cat    cat    cat    dog    dog"
      ]
     },
     "execution_count": 62,
     "metadata": {},
     "output_type": "execute_result"
    }
   ],
   "source": [
    "df = pd.read_csv('gives_you_paws.csv')\n",
    "df=pd.DataFrame(df)\n",
    "df.head()"
   ]
  },
  {
   "cell_type": "code",
   "execution_count": 63,
   "id": "c245e473",
   "metadata": {},
   "outputs": [
    {
     "data": {
      "text/plain": [
       "dog    3254\n",
       "cat    1746\n",
       "Name: actual, dtype: int64"
      ]
     },
     "execution_count": 63,
     "metadata": {},
     "output_type": "execute_result"
    }
   ],
   "source": [
    "df.actual.value_counts()"
   ]
  },
  {
   "cell_type": "code",
   "execution_count": 64,
   "id": "c297748e",
   "metadata": {},
   "outputs": [
    {
     "data": {
      "text/html": [
       "<div>\n",
       "<style scoped>\n",
       "    .dataframe tbody tr th:only-of-type {\n",
       "        vertical-align: middle;\n",
       "    }\n",
       "\n",
       "    .dataframe tbody tr th {\n",
       "        vertical-align: top;\n",
       "    }\n",
       "\n",
       "    .dataframe thead th {\n",
       "        text-align: right;\n",
       "    }\n",
       "</style>\n",
       "<table border=\"1\" class=\"dataframe\">\n",
       "  <thead>\n",
       "    <tr style=\"text-align: right;\">\n",
       "      <th></th>\n",
       "      <th>actual</th>\n",
       "      <th>model1</th>\n",
       "      <th>model2</th>\n",
       "      <th>model3</th>\n",
       "      <th>model4</th>\n",
       "      <th>baseline_prediction</th>\n",
       "    </tr>\n",
       "  </thead>\n",
       "  <tbody>\n",
       "    <tr>\n",
       "      <th>0</th>\n",
       "      <td>cat</td>\n",
       "      <td>cat</td>\n",
       "      <td>dog</td>\n",
       "      <td>cat</td>\n",
       "      <td>dog</td>\n",
       "      <td>dog</td>\n",
       "    </tr>\n",
       "    <tr>\n",
       "      <th>1</th>\n",
       "      <td>dog</td>\n",
       "      <td>dog</td>\n",
       "      <td>cat</td>\n",
       "      <td>cat</td>\n",
       "      <td>dog</td>\n",
       "      <td>dog</td>\n",
       "    </tr>\n",
       "    <tr>\n",
       "      <th>2</th>\n",
       "      <td>dog</td>\n",
       "      <td>cat</td>\n",
       "      <td>cat</td>\n",
       "      <td>cat</td>\n",
       "      <td>dog</td>\n",
       "      <td>dog</td>\n",
       "    </tr>\n",
       "    <tr>\n",
       "      <th>3</th>\n",
       "      <td>dog</td>\n",
       "      <td>dog</td>\n",
       "      <td>dog</td>\n",
       "      <td>cat</td>\n",
       "      <td>dog</td>\n",
       "      <td>dog</td>\n",
       "    </tr>\n",
       "    <tr>\n",
       "      <th>4</th>\n",
       "      <td>cat</td>\n",
       "      <td>cat</td>\n",
       "      <td>cat</td>\n",
       "      <td>dog</td>\n",
       "      <td>dog</td>\n",
       "      <td>dog</td>\n",
       "    </tr>\n",
       "  </tbody>\n",
       "</table>\n",
       "</div>"
      ],
      "text/plain": [
       "  actual model1 model2 model3 model4 baseline_prediction\n",
       "0    cat    cat    dog    cat    dog                 dog\n",
       "1    dog    dog    cat    cat    dog                 dog\n",
       "2    dog    cat    cat    cat    dog                 dog\n",
       "3    dog    dog    dog    cat    dog                 dog\n",
       "4    cat    cat    cat    dog    dog                 dog"
      ]
     },
     "execution_count": 64,
     "metadata": {},
     "output_type": "execute_result"
    }
   ],
   "source": [
    "df['baseline_prediction'] = \"dog\"\n",
    "df.head()"
   ]
  },
  {
   "cell_type": "code",
   "execution_count": 68,
   "id": "4ef6600b",
   "metadata": {},
   "outputs": [
    {
     "data": {
      "text/plain": [
       "(80.74, 63.04, 50.96000000000001, 74.26)"
      ]
     },
     "execution_count": 68,
     "metadata": {},
     "output_type": "execute_result"
    }
   ],
   "source": [
    "\n",
    "(df.actual == df.model1).mean()*100, (df.actual == df.model2).mean()*100, (df.actual == df.model3).mean()*100, (df.actual == df.model4).mean()*100"
   ]
  },
  {
   "cell_type": "code",
   "execution_count": 67,
   "id": "e5dc9c0d",
   "metadata": {},
   "outputs": [
    {
     "data": {
      "text/plain": [
       "65.08"
      ]
     },
     "execution_count": 67,
     "metadata": {},
     "output_type": "execute_result"
    }
   ],
   "source": [
    "(df.actual == df.baseline_prediction).mean()*100"
   ]
  },
  {
   "cell_type": "code",
   "execution_count": 10,
   "id": "9f2e33d3",
   "metadata": {},
   "outputs": [
    {
     "data": {
      "text/html": [
       "<div>\n",
       "<style scoped>\n",
       "    .dataframe tbody tr th:only-of-type {\n",
       "        vertical-align: middle;\n",
       "    }\n",
       "\n",
       "    .dataframe tbody tr th {\n",
       "        vertical-align: top;\n",
       "    }\n",
       "\n",
       "    .dataframe thead th {\n",
       "        text-align: right;\n",
       "    }\n",
       "</style>\n",
       "<table border=\"1\" class=\"dataframe\">\n",
       "  <thead>\n",
       "    <tr style=\"text-align: right;\">\n",
       "      <th></th>\n",
       "      <th>metric</th>\n",
       "      <th>baseline</th>\n",
       "      <th>model1</th>\n",
       "    </tr>\n",
       "  </thead>\n",
       "  <tbody>\n",
       "    <tr>\n",
       "      <th>0</th>\n",
       "      <td>accuracy</td>\n",
       "      <td>65.08</td>\n",
       "      <td>80.74</td>\n",
       "    </tr>\n",
       "  </tbody>\n",
       "</table>\n",
       "</div>"
      ],
      "text/plain": [
       "     metric  baseline  model1\n",
       "0  accuracy     65.08   80.74"
      ]
     },
     "execution_count": 10,
     "metadata": {},
     "output_type": "execute_result"
    }
   ],
   "source": [
    "model_accuracy = (df.actual == df.model1).mean()*100\n",
    "baseline_accuracy = (df.actual == df.baseline_prediction).mean()*100\n",
    "metric_df = pd.DataFrame(data = [\n",
    "    {'metric': 'accuracy',\n",
    "    'baseline': baseline_accuracy,\n",
    "     'model1': model_accuracy,}])\n",
    "metric_df.head()"
   ]
  },
  {
   "cell_type": "code",
   "execution_count": 11,
   "id": "fdf733c6",
   "metadata": {},
   "outputs": [
    {
     "data": {
      "text/html": [
       "<div>\n",
       "<style scoped>\n",
       "    .dataframe tbody tr th:only-of-type {\n",
       "        vertical-align: middle;\n",
       "    }\n",
       "\n",
       "    .dataframe tbody tr th {\n",
       "        vertical-align: top;\n",
       "    }\n",
       "\n",
       "    .dataframe thead th {\n",
       "        text-align: right;\n",
       "    }\n",
       "</style>\n",
       "<table border=\"1\" class=\"dataframe\">\n",
       "  <thead>\n",
       "    <tr style=\"text-align: right;\">\n",
       "      <th></th>\n",
       "      <th>metric</th>\n",
       "      <th>model2</th>\n",
       "      <th>baseline</th>\n",
       "    </tr>\n",
       "  </thead>\n",
       "  <tbody>\n",
       "    <tr>\n",
       "      <th>0</th>\n",
       "      <td>accuracy</td>\n",
       "      <td>63.04</td>\n",
       "      <td>65.08</td>\n",
       "    </tr>\n",
       "  </tbody>\n",
       "</table>\n",
       "</div>"
      ],
      "text/plain": [
       "     metric  model2  baseline\n",
       "0  accuracy   63.04     65.08"
      ]
     },
     "execution_count": 11,
     "metadata": {},
     "output_type": "execute_result"
    }
   ],
   "source": [
    "model_accuracy = (df.actual == df.model2).mean()*100\n",
    "baseline_accuracy = (df.actual == df.baseline_prediction).mean()*100\n",
    "dict2 = pd.DataFrame(data = [\n",
    "    {'metric': 'accuracy',\n",
    "    'model2': model_accuracy,\n",
    "    'baseline': baseline_accuracy}])\n",
    "dict2.head()"
   ]
  },
  {
   "cell_type": "code",
   "execution_count": 12,
   "id": "f3ad8329",
   "metadata": {},
   "outputs": [
    {
     "data": {
      "text/html": [
       "<div>\n",
       "<style scoped>\n",
       "    .dataframe tbody tr th:only-of-type {\n",
       "        vertical-align: middle;\n",
       "    }\n",
       "\n",
       "    .dataframe tbody tr th {\n",
       "        vertical-align: top;\n",
       "    }\n",
       "\n",
       "    .dataframe thead th {\n",
       "        text-align: right;\n",
       "    }\n",
       "</style>\n",
       "<table border=\"1\" class=\"dataframe\">\n",
       "  <thead>\n",
       "    <tr style=\"text-align: right;\">\n",
       "      <th></th>\n",
       "      <th>metric</th>\n",
       "      <th>baseline</th>\n",
       "      <th>model1</th>\n",
       "      <th>model2</th>\n",
       "    </tr>\n",
       "  </thead>\n",
       "  <tbody>\n",
       "    <tr>\n",
       "      <th>0</th>\n",
       "      <td>accuracy</td>\n",
       "      <td>65.08</td>\n",
       "      <td>80.74</td>\n",
       "      <td>0.00</td>\n",
       "    </tr>\n",
       "    <tr>\n",
       "      <th>1</th>\n",
       "      <td>accuracy</td>\n",
       "      <td>65.08</td>\n",
       "      <td>0.00</td>\n",
       "      <td>63.04</td>\n",
       "    </tr>\n",
       "  </tbody>\n",
       "</table>\n",
       "</div>"
      ],
      "text/plain": [
       "     metric  baseline  model1  model2\n",
       "0  accuracy     65.08   80.74    0.00\n",
       "1  accuracy     65.08    0.00   63.04"
      ]
     },
     "execution_count": 12,
     "metadata": {},
     "output_type": "execute_result"
    }
   ],
   "source": [
    "paws_metric=pd.concat([metric_df,dict2],ignore_index=True)\n",
    "paws_metric.fillna(0)\n"
   ]
  },
  {
   "cell_type": "code",
   "execution_count": 13,
   "id": "31c29552",
   "metadata": {},
   "outputs": [
    {
     "data": {
      "text/html": [
       "<div>\n",
       "<style scoped>\n",
       "    .dataframe tbody tr th:only-of-type {\n",
       "        vertical-align: middle;\n",
       "    }\n",
       "\n",
       "    .dataframe tbody tr th {\n",
       "        vertical-align: top;\n",
       "    }\n",
       "\n",
       "    .dataframe thead th {\n",
       "        text-align: right;\n",
       "    }\n",
       "</style>\n",
       "<table border=\"1\" class=\"dataframe\">\n",
       "  <thead>\n",
       "    <tr style=\"text-align: right;\">\n",
       "      <th></th>\n",
       "      <th>metric</th>\n",
       "      <th>model3</th>\n",
       "      <th>baseline</th>\n",
       "    </tr>\n",
       "  </thead>\n",
       "  <tbody>\n",
       "    <tr>\n",
       "      <th>0</th>\n",
       "      <td>accuracy</td>\n",
       "      <td>50.96</td>\n",
       "      <td>65.08</td>\n",
       "    </tr>\n",
       "  </tbody>\n",
       "</table>\n",
       "</div>"
      ],
      "text/plain": [
       "     metric  model3  baseline\n",
       "0  accuracy   50.96     65.08"
      ]
     },
     "execution_count": 13,
     "metadata": {},
     "output_type": "execute_result"
    }
   ],
   "source": [
    "model_accuracy = (df.actual == df.model3).mean()*100\n",
    "baseline_accuracy = (df.actual == df.baseline_prediction).mean()*100\n",
    "dict3 = pd.DataFrame(data = [\n",
    "    {'metric': 'accuracy',\n",
    "    'model3': model_accuracy,\n",
    "    'baseline': baseline_accuracy}])\n",
    "dict3.head()"
   ]
  },
  {
   "cell_type": "code",
   "execution_count": 14,
   "id": "f71d53f6",
   "metadata": {},
   "outputs": [
    {
     "data": {
      "text/html": [
       "<div>\n",
       "<style scoped>\n",
       "    .dataframe tbody tr th:only-of-type {\n",
       "        vertical-align: middle;\n",
       "    }\n",
       "\n",
       "    .dataframe tbody tr th {\n",
       "        vertical-align: top;\n",
       "    }\n",
       "\n",
       "    .dataframe thead th {\n",
       "        text-align: right;\n",
       "    }\n",
       "</style>\n",
       "<table border=\"1\" class=\"dataframe\">\n",
       "  <thead>\n",
       "    <tr style=\"text-align: right;\">\n",
       "      <th></th>\n",
       "      <th>metric</th>\n",
       "      <th>baseline</th>\n",
       "      <th>model1</th>\n",
       "      <th>model2</th>\n",
       "      <th>model3</th>\n",
       "    </tr>\n",
       "  </thead>\n",
       "  <tbody>\n",
       "    <tr>\n",
       "      <th>0</th>\n",
       "      <td>accuracy</td>\n",
       "      <td>65.08</td>\n",
       "      <td>80.74</td>\n",
       "      <td>0.00</td>\n",
       "      <td>0.00</td>\n",
       "    </tr>\n",
       "    <tr>\n",
       "      <th>1</th>\n",
       "      <td>accuracy</td>\n",
       "      <td>65.08</td>\n",
       "      <td>0.00</td>\n",
       "      <td>63.04</td>\n",
       "      <td>0.00</td>\n",
       "    </tr>\n",
       "    <tr>\n",
       "      <th>2</th>\n",
       "      <td>accuracy</td>\n",
       "      <td>65.08</td>\n",
       "      <td>0.00</td>\n",
       "      <td>0.00</td>\n",
       "      <td>50.96</td>\n",
       "    </tr>\n",
       "  </tbody>\n",
       "</table>\n",
       "</div>"
      ],
      "text/plain": [
       "     metric  baseline  model1  model2  model3\n",
       "0  accuracy     65.08   80.74    0.00    0.00\n",
       "1  accuracy     65.08    0.00   63.04    0.00\n",
       "2  accuracy     65.08    0.00    0.00   50.96"
      ]
     },
     "execution_count": 14,
     "metadata": {},
     "output_type": "execute_result"
    }
   ],
   "source": [
    "paws_metric=pd.concat([paws_metric,dict3],ignore_index=True)\n",
    "paws_metric=paws_metric.fillna(0)\n",
    "paws_metric\n"
   ]
  },
  {
   "cell_type": "code",
   "execution_count": 69,
   "id": "a6f40455",
   "metadata": {},
   "outputs": [
    {
     "data": {
      "text/html": [
       "<div>\n",
       "<style scoped>\n",
       "    .dataframe tbody tr th:only-of-type {\n",
       "        vertical-align: middle;\n",
       "    }\n",
       "\n",
       "    .dataframe tbody tr th {\n",
       "        vertical-align: top;\n",
       "    }\n",
       "\n",
       "    .dataframe thead th {\n",
       "        text-align: right;\n",
       "    }\n",
       "</style>\n",
       "<table border=\"1\" class=\"dataframe\">\n",
       "  <thead>\n",
       "    <tr style=\"text-align: right;\">\n",
       "      <th></th>\n",
       "      <th>metric</th>\n",
       "      <th>model4</th>\n",
       "      <th>baseline</th>\n",
       "    </tr>\n",
       "  </thead>\n",
       "  <tbody>\n",
       "    <tr>\n",
       "      <th>0</th>\n",
       "      <td>accuracy</td>\n",
       "      <td>74.26</td>\n",
       "      <td>65.08</td>\n",
       "    </tr>\n",
       "  </tbody>\n",
       "</table>\n",
       "</div>"
      ],
      "text/plain": [
       "     metric  model4  baseline\n",
       "0  accuracy   74.26     65.08"
      ]
     },
     "execution_count": 69,
     "metadata": {},
     "output_type": "execute_result"
    }
   ],
   "source": [
    "model_accuracy = (df.actual == df.model4).mean()*100\n",
    "baseline_accuracy = (df.actual == df.baseline_prediction).mean()*100\n",
    "dict4 = pd.DataFrame(data = [\n",
    "    {'metric': 'accuracy',\n",
    "    'model4': model_accuracy,\n",
    "    'baseline': baseline_accuracy}])\n",
    "dict4.head()"
   ]
  },
  {
   "cell_type": "code",
   "execution_count": 72,
   "id": "c5ba8ce1",
   "metadata": {
    "scrolled": true
   },
   "outputs": [
    {
     "data": {
      "text/html": [
       "<div>\n",
       "<style scoped>\n",
       "    .dataframe tbody tr th:only-of-type {\n",
       "        vertical-align: middle;\n",
       "    }\n",
       "\n",
       "    .dataframe tbody tr th {\n",
       "        vertical-align: top;\n",
       "    }\n",
       "\n",
       "    .dataframe thead th {\n",
       "        text-align: right;\n",
       "    }\n",
       "</style>\n",
       "<table border=\"1\" class=\"dataframe\">\n",
       "  <thead>\n",
       "    <tr style=\"text-align: right;\">\n",
       "      <th></th>\n",
       "      <th>metric</th>\n",
       "      <th>baseline</th>\n",
       "      <th>model1</th>\n",
       "      <th>model2</th>\n",
       "      <th>model3</th>\n",
       "      <th>model4</th>\n",
       "    </tr>\n",
       "  </thead>\n",
       "  <tbody>\n",
       "    <tr>\n",
       "      <th>0</th>\n",
       "      <td>accuracy</td>\n",
       "      <td>65.08</td>\n",
       "      <td>80.74</td>\n",
       "      <td>0.00</td>\n",
       "      <td>0.00</td>\n",
       "      <td>0.00</td>\n",
       "    </tr>\n",
       "    <tr>\n",
       "      <th>1</th>\n",
       "      <td>accuracy</td>\n",
       "      <td>65.08</td>\n",
       "      <td>0.00</td>\n",
       "      <td>63.04</td>\n",
       "      <td>0.00</td>\n",
       "      <td>0.00</td>\n",
       "    </tr>\n",
       "    <tr>\n",
       "      <th>2</th>\n",
       "      <td>accuracy</td>\n",
       "      <td>65.08</td>\n",
       "      <td>0.00</td>\n",
       "      <td>0.00</td>\n",
       "      <td>50.96</td>\n",
       "      <td>0.00</td>\n",
       "    </tr>\n",
       "    <tr>\n",
       "      <th>3</th>\n",
       "      <td>accuracy</td>\n",
       "      <td>65.08</td>\n",
       "      <td>0.00</td>\n",
       "      <td>0.00</td>\n",
       "      <td>0.00</td>\n",
       "      <td>74.26</td>\n",
       "    </tr>\n",
       "    <tr>\n",
       "      <th>4</th>\n",
       "      <td>accuracy</td>\n",
       "      <td>65.08</td>\n",
       "      <td>0.00</td>\n",
       "      <td>0.00</td>\n",
       "      <td>0.00</td>\n",
       "      <td>74.26</td>\n",
       "    </tr>\n",
       "    <tr>\n",
       "      <th>5</th>\n",
       "      <td>accuracy</td>\n",
       "      <td>65.08</td>\n",
       "      <td>0.00</td>\n",
       "      <td>0.00</td>\n",
       "      <td>0.00</td>\n",
       "      <td>74.26</td>\n",
       "    </tr>\n",
       "  </tbody>\n",
       "</table>\n",
       "</div>"
      ],
      "text/plain": [
       "     metric  baseline  model1  model2  model3  model4\n",
       "0  accuracy     65.08   80.74    0.00    0.00    0.00\n",
       "1  accuracy     65.08    0.00   63.04    0.00    0.00\n",
       "2  accuracy     65.08    0.00    0.00   50.96    0.00\n",
       "3  accuracy     65.08    0.00    0.00    0.00   74.26\n",
       "4  accuracy     65.08    0.00    0.00    0.00   74.26\n",
       "5  accuracy     65.08    0.00    0.00    0.00   74.26"
      ]
     },
     "execution_count": 72,
     "metadata": {},
     "output_type": "execute_result"
    }
   ],
   "source": [
    "paws_metric=pd.concat([paws_metric,dict4],ignore_index=True)\n",
    "paws_metric=paws_metric.fillna(0)\n",
    "paws_metric"
   ]
  },
  {
   "cell_type": "code",
   "execution_count": null,
   "id": "f0db9564",
   "metadata": {},
   "outputs": [],
   "source": []
  },
  {
   "cell_type": "code",
   "execution_count": 79,
   "id": "82c2dcb0",
   "metadata": {},
   "outputs": [
    {
     "data": {
      "text/html": [
       "<div>\n",
       "<style scoped>\n",
       "    .dataframe tbody tr th:only-of-type {\n",
       "        vertical-align: middle;\n",
       "    }\n",
       "\n",
       "    .dataframe tbody tr th {\n",
       "        vertical-align: top;\n",
       "    }\n",
       "\n",
       "    .dataframe thead th {\n",
       "        text-align: right;\n",
       "    }\n",
       "</style>\n",
       "<table border=\"1\" class=\"dataframe\">\n",
       "  <thead>\n",
       "    <tr style=\"text-align: right;\">\n",
       "      <th></th>\n",
       "      <th>actual</th>\n",
       "      <th>model1</th>\n",
       "      <th>model2</th>\n",
       "      <th>model3</th>\n",
       "      <th>model4</th>\n",
       "      <th>baseline_prediction</th>\n",
       "    </tr>\n",
       "  </thead>\n",
       "  <tbody>\n",
       "    <tr>\n",
       "      <th>1</th>\n",
       "      <td>dog</td>\n",
       "      <td>dog</td>\n",
       "      <td>cat</td>\n",
       "      <td>cat</td>\n",
       "      <td>dog</td>\n",
       "      <td>dog</td>\n",
       "    </tr>\n",
       "    <tr>\n",
       "      <th>2</th>\n",
       "      <td>dog</td>\n",
       "      <td>cat</td>\n",
       "      <td>cat</td>\n",
       "      <td>cat</td>\n",
       "      <td>dog</td>\n",
       "      <td>dog</td>\n",
       "    </tr>\n",
       "    <tr>\n",
       "      <th>3</th>\n",
       "      <td>dog</td>\n",
       "      <td>dog</td>\n",
       "      <td>dog</td>\n",
       "      <td>cat</td>\n",
       "      <td>dog</td>\n",
       "      <td>dog</td>\n",
       "    </tr>\n",
       "    <tr>\n",
       "      <th>5</th>\n",
       "      <td>dog</td>\n",
       "      <td>dog</td>\n",
       "      <td>dog</td>\n",
       "      <td>dog</td>\n",
       "      <td>dog</td>\n",
       "      <td>dog</td>\n",
       "    </tr>\n",
       "    <tr>\n",
       "      <th>8</th>\n",
       "      <td>dog</td>\n",
       "      <td>dog</td>\n",
       "      <td>cat</td>\n",
       "      <td>dog</td>\n",
       "      <td>dog</td>\n",
       "      <td>dog</td>\n",
       "    </tr>\n",
       "    <tr>\n",
       "      <th>...</th>\n",
       "      <td>...</td>\n",
       "      <td>...</td>\n",
       "      <td>...</td>\n",
       "      <td>...</td>\n",
       "      <td>...</td>\n",
       "      <td>...</td>\n",
       "    </tr>\n",
       "    <tr>\n",
       "      <th>4993</th>\n",
       "      <td>dog</td>\n",
       "      <td>dog</td>\n",
       "      <td>cat</td>\n",
       "      <td>dog</td>\n",
       "      <td>dog</td>\n",
       "      <td>dog</td>\n",
       "    </tr>\n",
       "    <tr>\n",
       "      <th>4995</th>\n",
       "      <td>dog</td>\n",
       "      <td>dog</td>\n",
       "      <td>dog</td>\n",
       "      <td>dog</td>\n",
       "      <td>dog</td>\n",
       "      <td>dog</td>\n",
       "    </tr>\n",
       "    <tr>\n",
       "      <th>4996</th>\n",
       "      <td>dog</td>\n",
       "      <td>dog</td>\n",
       "      <td>cat</td>\n",
       "      <td>cat</td>\n",
       "      <td>dog</td>\n",
       "      <td>dog</td>\n",
       "    </tr>\n",
       "    <tr>\n",
       "      <th>4997</th>\n",
       "      <td>dog</td>\n",
       "      <td>cat</td>\n",
       "      <td>cat</td>\n",
       "      <td>dog</td>\n",
       "      <td>dog</td>\n",
       "      <td>dog</td>\n",
       "    </tr>\n",
       "    <tr>\n",
       "      <th>4999</th>\n",
       "      <td>dog</td>\n",
       "      <td>dog</td>\n",
       "      <td>dog</td>\n",
       "      <td>dog</td>\n",
       "      <td>dog</td>\n",
       "      <td>dog</td>\n",
       "    </tr>\n",
       "  </tbody>\n",
       "</table>\n",
       "<p>3254 rows × 6 columns</p>\n",
       "</div>"
      ],
      "text/plain": [
       "     actual model1 model2 model3 model4 baseline_prediction\n",
       "1       dog    dog    cat    cat    dog                 dog\n",
       "2       dog    cat    cat    cat    dog                 dog\n",
       "3       dog    dog    dog    cat    dog                 dog\n",
       "5       dog    dog    dog    dog    dog                 dog\n",
       "8       dog    dog    cat    dog    dog                 dog\n",
       "...     ...    ...    ...    ...    ...                 ...\n",
       "4993    dog    dog    cat    dog    dog                 dog\n",
       "4995    dog    dog    dog    dog    dog                 dog\n",
       "4996    dog    dog    cat    cat    dog                 dog\n",
       "4997    dog    cat    cat    dog    dog                 dog\n",
       "4999    dog    dog    dog    dog    dog                 dog\n",
       "\n",
       "[3254 rows x 6 columns]"
      ]
     },
     "execution_count": 79,
     "metadata": {},
     "output_type": "execute_result"
    }
   ],
   "source": [
    "subset=df[df.actual=='dog']\n",
    "subset"
   ]
  },
  {
   "cell_type": "code",
   "execution_count": 83,
   "id": "bebf8cda",
   "metadata": {},
   "outputs": [
    {
     "data": {
      "text/plain": [
       "(89.00238338440586, 89.31767337807607, 65.98883572567783, 73.12485304490947)"
      ]
     },
     "execution_count": 83,
     "metadata": {},
     "output_type": "execute_result"
    }
   ],
   "source": [
    "subset = df[df.model1 == 'dog']\n",
    "model1_precision = (subset.actual == subset.model1).mean()*100\n",
    "\n",
    "subset2= df[df.model2 == 'dog']\n",
    "model2_precision = (subset2.actual == subset2.model2).mean()*100\n",
    "\n",
    "subset3=df[df.model3 == 'dog']\n",
    "\n",
    "model3_precision = (subset3.actual == subset3.model3).mean()*100\n",
    "\n",
    "subset4=df[df.model4 == 'dog']\n",
    "model4_precision = (subset4.actual == subset4.model4).mean()*100\n",
    "\n",
    "model1_precision,model2_precision,model3_precision, model4_precision"
   ]
  },
  {
   "cell_type": "code",
   "execution_count": 84,
   "id": "98842a55",
   "metadata": {},
   "outputs": [],
   "source": [
    "subset1 = df[df.model1 == 'dog']\n",
    "subset2 = df[df.model2 == 'dog']\n",
    "subset3 = df[df.model3 == 'dog']\n",
    "subset4 = df[df.model4 == 'dog']"
   ]
  },
  {
   "cell_type": "code",
   "execution_count": null,
   "id": "7b0e8041",
   "metadata": {},
   "outputs": [],
   "source": []
  },
  {
   "cell_type": "markdown",
   "id": "94ae585c",
   "metadata": {},
   "source": [
    " 4a. In terms of accuracy, how do the various models compare to the baseline model? Are any of the models better than the baseline?\n",
    "- Model 1 is better than the baseline, model 4\n",
    "\n",
    "4b. Suppose you are working on a team that solely deals with dog pictures. Which of these models would you recommend?\n",
    " - I would recommend model 4 on recall\n",
    " \n",
    "4c. Suppose you are working on a team that solely deals with cat pictures. Which of these models would you recommend?\n",
    " - I would recommend model 3"
   ]
  },
  {
   "cell_type": "code",
   "execution_count": null,
   "id": "2415c513",
   "metadata": {},
   "outputs": [],
   "source": []
  },
  {
   "cell_type": "markdown",
   "id": "76f50e4e",
   "metadata": {},
   "source": [
    "# 5. Follow the links below to read the documentation about each function, then apply those functions to the data from the previous problem."
   ]
  },
  {
   "cell_type": "code",
   "execution_count": 86,
   "id": "b4b894b4",
   "metadata": {},
   "outputs": [],
   "source": [
    "y_actual=df.actual\n",
    "y_pred1=df.model1\n",
    "y_pred2=df.model2\n",
    "y_pred3=df.model3\n",
    "y_pred4=df.model4"
   ]
  },
  {
   "cell_type": "code",
   "execution_count": 89,
   "id": "452dd509",
   "metadata": {},
   "outputs": [
    {
     "data": {
      "text/plain": [
       "(80.3318992009834, 80.3318992009834, 80.3318992009834)"
      ]
     },
     "execution_count": 89,
     "metadata": {},
     "output_type": "execute_result"
    }
   ],
   "source": [
    "recall_score(y_actual, y_pred,\n",
    "                labels=[ \"dog\"],\n",
    "                average = 'macro')*100, recall_score(y_actual, y_pred,\n",
    "                labels=[ \"dog\"],\n",
    "                average = 'micro')*100, recall_score(y_actual, y_pred,\n",
    "                labels=[ \"dog\"],\n",
    "                average = 'weighted')*100\n"
   ]
  },
  {
   "cell_type": "code",
   "execution_count": 91,
   "id": "2fca9abd",
   "metadata": {},
   "outputs": [
    {
     "data": {
      "text/plain": [
       "(49.0780577750461, 49.0780577750461, 49.0780577750461)"
      ]
     },
     "execution_count": 91,
     "metadata": {},
     "output_type": "execute_result"
    }
   ],
   "source": [
    "recall_score(y_actual, y_pred2,\n",
    "                labels=[\"dog\"],\n",
    "                average = 'macro')*100, recall_score(y_actual, y_pred2,\n",
    "                labels=[\"dog\"],\n",
    "                average = 'micro')*100, recall_score(y_actual, y_pred2,\n",
    "                labels=[\"dog\"],\n",
    "                average = 'weighted')*100"
   ]
  },
  {
   "cell_type": "code",
   "execution_count": 92,
   "id": "0e9019d4",
   "metadata": {},
   "outputs": [
    {
     "data": {
      "text/plain": [
       "(50.86047940995697, 50.86047940995697, 50.86047940995697)"
      ]
     },
     "execution_count": 92,
     "metadata": {},
     "output_type": "execute_result"
    }
   ],
   "source": [
    "recall_score(y_actual, y_pred3,\n",
    "                labels=[\"dog\"],\n",
    "                average = 'macro')*100, recall_score(y_actual, y_pred3,\n",
    "                labels=[\"dog\"],\n",
    "                average = 'micro')*100, recall_score(y_actual, y_pred3,\n",
    "                labels=[\"dog\"],\n",
    "                average = 'weighted')*100"
   ]
  },
  {
   "cell_type": "code",
   "execution_count": 40,
   "id": "4b1dc20c",
   "metadata": {},
   "outputs": [
    {
     "data": {
      "text/plain": [
       "(80.74, 63.04, 50.96000000000001)"
      ]
     },
     "execution_count": 40,
     "metadata": {},
     "output_type": "execute_result"
    }
   ],
   "source": [
    "accuracy_score(y_actual,y_pred1)*100, accuracy_score(y_actual,y_pred2)*100,accuracy_score(y_actual,y_pred3)*100\n"
   ]
  },
  {
   "cell_type": "code",
   "execution_count": 88,
   "id": "c907bd64",
   "metadata": {},
   "outputs": [
    {
     "data": {
      "text/plain": [
       "(68.97721764420747, 81.50057273768614, 81.50057273768614)"
      ]
     },
     "execution_count": 88,
     "metadata": {},
     "output_type": "execute_result"
    }
   ],
   "source": [
    "precision_score(y_actual, y_pred1,\n",
    "                labels=[\"cat\"],\n",
    "                average = 'macro')*100, recall_score(y_actual, y_pred1,\n",
    "                labels=[\"cat\"],\n",
    "                average = 'micro')*100, recall_score(y_actual, y_pred1,\n",
    "                labels=[\"cat\"],\n",
    "                average = 'weighted')*100"
   ]
  },
  {
   "cell_type": "code",
   "execution_count": 45,
   "id": "3e05a587",
   "metadata": {},
   "outputs": [
    {
     "data": {
      "text/plain": [
       "(68.86493880609905, 63.04, 63.04)"
      ]
     },
     "execution_count": 45,
     "metadata": {},
     "output_type": "execute_result"
    }
   ],
   "source": [
    "precision_score(y_actual, y_pred2,\n",
    "                labels=[\"cat\", ],\n",
    "                average = 'macro')*100, recall_score(y_actual, y_pred2,\n",
    "                labels=[\"cat\", \"dog\"],\n",
    "                average = 'micro')*100, recall_score(y_actual, y_pred2,\n",
    "                labels=[\"cat\", \"dog\"],\n",
    "                average = 'weighted')*100"
   ]
  },
  {
   "cell_type": "code",
   "execution_count": 85,
   "id": "37db36e7",
   "metadata": {},
   "outputs": [
    {
     "data": {
      "text/plain": [
       "(35.8346709470305, 51.14547537227949, 51.14547537227949)"
      ]
     },
     "execution_count": 85,
     "metadata": {},
     "output_type": "execute_result"
    }
   ],
   "source": [
    "precision_score(y_actual, y_pred3,\n",
    "                labels=[\"cat\"],\n",
    "                average = 'macro')*100, recall_score(y_actual, y_pred3,\n",
    "                labels=[\"cat\"],\n",
    "                average = 'micro')*100, recall_score(y_actual, y_pred3,\n",
    "                labels=[\"cat\"],\n",
    "                average = 'weighted')*100"
   ]
  },
  {
   "cell_type": "code",
   "execution_count": 94,
   "id": "87ff07ec",
   "metadata": {},
   "outputs": [
    {
     "data": {
      "text/plain": [
       "(80.72289156626506, 34.5360824742268, 34.5360824742268)"
      ]
     },
     "execution_count": 94,
     "metadata": {},
     "output_type": "execute_result"
    }
   ],
   "source": [
    "precision_score(y_actual, y_pred4,\n",
    "                labels=[\"cat\"],\n",
    "                average = 'macro')*100, recall_score(y_actual, y_pred4,\n",
    "                labels=[\"cat\"],\n",
    "                average = 'micro')*100, recall_score(y_actual, y_pred4,\n",
    "                labels=[\"cat\"],\n",
    "                average = 'weighted')*100"
   ]
  }
 ],
 "metadata": {
  "kernelspec": {
   "display_name": "Python 3 (ipykernel)",
   "language": "python",
   "name": "python3"
  },
  "language_info": {
   "codemirror_mode": {
    "name": "ipython",
    "version": 3
   },
   "file_extension": ".py",
   "mimetype": "text/x-python",
   "name": "python",
   "nbconvert_exporter": "python",
   "pygments_lexer": "ipython3",
   "version": "3.9.13"
  }
 },
 "nbformat": 4,
 "nbformat_minor": 5
}
